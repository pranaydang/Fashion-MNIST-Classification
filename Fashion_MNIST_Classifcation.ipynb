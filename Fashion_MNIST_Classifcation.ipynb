{
  "nbformat": 4,
  "nbformat_minor": 0,
  "metadata": {
    "colab": {
      "provenance": [],
      "authorship_tag": "ABX9TyOp7dGrzxOx0HPGOegxje+G",
      "include_colab_link": true
    },
    "kernelspec": {
      "name": "python3",
      "display_name": "Python 3"
    },
    "language_info": {
      "name": "python"
    }
  },
  "cells": [
    {
      "cell_type": "markdown",
      "metadata": {
        "id": "view-in-github",
        "colab_type": "text"
      },
      "source": [
        "<a href=\"https://colab.research.google.com/github/pranaydang/Fashion-MNIST-Classification/blob/main/Fashion_MNIST_Classifcation.ipynb\" target=\"_parent\"><img src=\"https://colab.research.google.com/assets/colab-badge.svg\" alt=\"Open In Colab\"/></a>"
      ]
    },
    {
      "cell_type": "markdown",
      "source": [
        "##Approach 1: CNN"
      ],
      "metadata": {
        "id": "P4xYxrezbR1D"
      }
    },
    {
      "cell_type": "code",
      "source": [
        "!pip install optuna\n",
        "import os\n",
        "import numpy as np\n",
        "import tensorflow as tf\n",
        "from tensorflow import keras\n",
        "from sklearn.metrics import accuracy_score, precision_score, recall_score, f1_score, confusion_matrix, ConfusionMatrixDisplay\n",
        "from sklearn.model_selection import train_test_split\n",
        "from sklearn.preprocessing import StandardScaler\n",
        "import optuna\n",
        "from tensorflow.keras.models import Sequential\n",
        "from tensorflow.keras.layers import Dense, Conv2D, MaxPool2D , Flatten, BatchNormalization, Dropout\n",
        "import matplotlib.pyplot as plt\n",
        "from tensorflow.keras.callbacks import EarlyStopping\n",
        "from tensorflow.keras.preprocessing.image import ImageDataGenerator\n",
        "\n",
        "# Data Preprocessing\n",
        "def preprocessing(x_train, x_test):\n",
        "\n",
        "    normalization_layer = tf.keras.layers.Rescaling(1./255)\n",
        "\n",
        "    x_train = normalization_layer(x_train)\n",
        "    x_test = normalization_layer(x_test)\n",
        "\n",
        "    x_train = np.expand_dims(x_train, axis=-1)\n",
        "    x_test = np.expand_dims(x_test, axis=-1)\n",
        "\n",
        "    return x_train, x_test\n",
        "\n",
        "\n",
        "# Split the data into training and validation sets\n",
        "def generate_training_splits(x_train, y_train, random_state):\n",
        "\n",
        "    x_training, x_val, y_training, y_val = train_test_split(x_train, y_train, test_size=0.15, random_state=random_state)\n",
        "    return x_training, x_val, y_training, y_val\n",
        "\n",
        "# Model Definition: VGG16 based model\n",
        "def define_model(n_blocks):\n",
        "\n",
        "  model = Sequential()\n",
        "\n",
        "  model.add(Conv2D(input_shape=(28,28,1),filters=64,kernel_size=(3,3),padding=\"same\", activation=\"relu\"))\n",
        "  model.add(Conv2D(filters=32,kernel_size=(3,3),padding=\"same\", activation=\"relu\"))\n",
        "  model.add(MaxPool2D(pool_size=(2,2),strides=(2,2)))\n",
        "  model.add(Dropout(0.3))\n",
        "\n",
        "  for i in range(n_blocks):\n",
        "    model.add(Conv2D(filters=32*(2**(i+1)),kernel_size=(3,3),padding=\"same\", activation=\"relu\"))\n",
        "    model.add(Conv2D(filters=32*(2**(i+1)),kernel_size=(3,3),padding=\"same\", activation=\"relu\"))\n",
        "    model.add(MaxPool2D(pool_size=(2,2),strides=(2,2)))\n",
        "    model.add(Dropout(0.3))\n",
        "\n",
        "  model.add(Flatten())\n",
        "  model.add(Dense(units=512,activation=\"relu\"))\n",
        "  model.add(Dropout(0.4))\n",
        "  model.add(Dense(units=10, activation=\"softmax\")) #Because there are 10 classes\n",
        "\n",
        "  return model\n",
        "\n",
        "# Training and Hyperparameter Tuning\n",
        "\n",
        "def optimize_hyperparameters(x_training, y_training, x_val, y_val, x_train, y_train, n_trials):\n",
        "\n",
        "# Image Augmentation\n",
        "  datagen = ImageDataGenerator(\n",
        "        rotation_range=20,\n",
        "        width_shift_range=0.4,\n",
        "        height_shift_range=0.4,\n",
        "        zoom_range=0.3,\n",
        "        horizontal_flip=True,\n",
        "        brightness_range=[0.2,1.2])\n",
        "\n",
        "  datagen.fit(x_training)\n",
        "\n",
        "  history_per_trial = [] # Used to track the fit of the best trial\n",
        "\n",
        "  # Objective function to maximize the F1 score\n",
        "  def objective(trial):\n",
        "\n",
        "    # Parameters to optimize (removed n_blocks out of play)\n",
        "    params = {\n",
        "        'learning_rate': trial.suggest_loguniform('learning_rate', 1e-5, 1e-2),\n",
        "        'batch_size': trial.suggest_categorical('batch_size', [32, 64, 128]),\n",
        "        'epochs': trial.suggest_int('epochs', 20, 50),\n",
        "        'n_blocks': 2\n",
        "    }\n",
        "\n",
        "    model = define_model(params['n_blocks'])\n",
        "    model.compile(loss=tf.keras.losses.sparse_categorical_crossentropy,\n",
        "                  optimizer=tf.keras.optimizers.Adam(learning_rate=params['learning_rate']),\n",
        "                  metrics=['accuracy'])\n",
        "    # Early stopping condition that tracks accuracy\n",
        "    early_stopping = EarlyStopping(monitor='accuracy', patience=5, restore_best_weights=True)\n",
        "    history = model.fit(x_training, y_training,\n",
        "                batch_size=params['batch_size'],\n",
        "                epochs=params['epochs'],\n",
        "                verbose=0, callbacks=[early_stopping], validation_data=(x_val, y_val))\n",
        "\n",
        "    history_per_trial.append(history)\n",
        "\n",
        "    y_pred_train = np.argmax(model.predict(x_training), axis=-1)\n",
        "    y_pred_val = np.argmax(model.predict(x_val), axis=-1)\n",
        "\n",
        "    # Calculation of all metrics\n",
        "    val_f1 = f1_score(y_val, y_pred_val, average='macro')\n",
        "    val_recall = recall_score(y_val, y_pred_val, average='macro')\n",
        "    val_precision = precision_score(y_val, y_pred_val, average='macro')\n",
        "    val_accuracy = accuracy_score(y_val, y_pred_val)\n",
        "\n",
        "    train_f1 = f1_score(y_training, y_pred_train, average='macro')\n",
        "    train_recall = recall_score(y_training, y_pred_train, average='macro')\n",
        "    train_precision = precision_score(y_training, y_pred_train, average='macro')\n",
        "    train_accuracy = accuracy_score(y_training, y_pred_train)\n",
        "\n",
        "    # Heavy penalization for overfitting\n",
        "    if train_accuracy - val_accuracy > 0.05:\n",
        "      return -1000\n",
        "\n",
        "    return val_f1\n",
        "\n",
        "  study = optuna.create_study(direction='maximize') #This statement makes sure I maximize the F1 score\n",
        "  study.optimize(lambda trial: objective(trial), n_trials=n_trials)\n",
        "  print(\"Study completed!\")\n",
        "  best_trial = study.best_trial\n",
        "  best_params = best_trial.params\n",
        "\n",
        "  best_history = history_per_trial[study.best_trial.number]\n",
        "\n",
        "  best_model = define_model(2)\n",
        "  best_model.compile(loss=tf.keras.losses.sparse_categorical_crossentropy,\n",
        "                  optimizer=tf.keras.optimizers.Adam(learning_rate=best_params['learning_rate']),\n",
        "                  metrics=['accuracy'])\n",
        "  history = best_model.fit(x_train, y_train,\n",
        "                      batch_size=best_params['batch_size'],\n",
        "                      epochs=best_params['epochs'],\n",
        "                      verbose=0)\n",
        "\n",
        "  return best_model, best_history\n",
        "\n",
        "# Evaluation of model\n",
        "\n",
        "def evaluate_best_model(best_model, x_test, y_test, x_train, y_train):\n",
        "\n",
        "  y_pred = np.argmax(best_model.predict(x_test), axis=-1)\n",
        "  precision = precision_score(y_test, y_pred, average='macro')\n",
        "  recall = recall_score(y_test, y_pred, average='macro')\n",
        "  accuracy = accuracy_score(y_test, y_pred)\n",
        "\n",
        "  y_pred_train = np.argmax(best_model.predict(x_train), axis=-1)\n",
        "  accuracy_train = accuracy_score(y_train, y_pred_train)\n",
        "\n",
        "  return precision, recall, accuracy, accuracy_train, y_pred, y_pred_train\n",
        "\n",
        "\n",
        "# Fit Analysis\n",
        "\n",
        "def fit_summary(y_pred, y_pred_train, accuracy, accuracy_train, history, y_test):\n",
        "\n",
        "  # Overfitting condition : train accuracy - test accuracy < 5%\n",
        "  if accuracy_train - accuracy > 0.05:\n",
        "    fitting =  \"Overfitting\"\n",
        "  else:\n",
        "    fitting = \"Acceptable performance\"\n",
        "\n",
        "  conf_matrix = confusion_matrix(y_test, y_pred)\n",
        "\n",
        "  cm_display = ConfusionMatrixDisplay(confusion_matrix = conf_matrix, display_labels = range(10)) #Confusion Matrix plotting\n",
        "\n",
        "  cm_display.plot()\n",
        "  plt.show()\n",
        "\n",
        "  # Plotting train vs validation accuracy over epochs\n",
        "  plt.plot(history.history['accuracy'])\n",
        "  plt.plot(history.history['val_accuracy'])\n",
        "  plt.title('model accuracy')\n",
        "  plt.ylabel('accuracy')\n",
        "  plt.xlabel('epoch')\n",
        "  plt.legend(['Train', 'Validation'], loc='upper left')\n",
        "  plt.show()\n",
        "\n",
        "  # Plotting train vs validation loss over epochs\n",
        "  plt.plot(history.history['loss'])\n",
        "  plt.plot(history.history['val_loss'])\n",
        "  plt.title('model loss')\n",
        "  plt.ylabel('loss')\n",
        "  plt.xlabel('epoch')\n",
        "  plt.legend(['Train', 'Validation'], loc='upper left')\n",
        "  plt.show()\n",
        "\n",
        "  return f\"The model's fitting performance is: {fitting}\"\n",
        "\n",
        "\n",
        "\n",
        "# Function Creation\n",
        "def comprehensive_fashion_mnist_model(random_seed):\n",
        "\n",
        "  tf.debugging.set_log_device_placement(False) #The logging was causing the runtime to crash\n",
        "\n",
        "  (x_train, y_train), (x_test, y_test) = keras.datasets.fashion_mnist.load_data() #Loading the dataset\n",
        "\n",
        "  x_train, x_test = preprocessing(x_train, x_test) #Preprocessing step\n",
        "\n",
        "  x_training, x_val, y_training, y_val = generate_training_splits(x_train, y_train, random_seed) #Generating training and validation splits\n",
        "\n",
        "  best_model, best_history = optimize_hyperparameters(x_training, y_training, x_val, y_val, x_train, y_train, 25) #Getting the best model and history(for plotting) after HPO\n",
        "\n",
        "  precision, recall, accuracy, accuracy_train, y_pred, y_pred_train = evaluate_best_model(best_model, x_test, y_test, x_train, y_train) #Metrics\n",
        "\n",
        "  fit_analysis = fit_summary(y_pred, y_pred_train, accuracy, accuracy_train, best_history, y_test) #Fit analysis\n",
        "\n",
        "  print(f\"Train accuracy: {accuracy_train:.4f}\")\n",
        "\n",
        "  return best_model, accuracy, precision, recall, fit_analysis\n",
        "\n",
        "# Example usage of the function\n",
        "trained_model, acc, prec, rec, fit_analysis = comprehensive_fashion_mnist_model(random_seed=42)\n",
        "print(f\"Test Accuracy: {acc:.4f}\")\n",
        "print(f\"Precision: {prec:.4f}\")\n",
        "print(f\"Recall: {rec:.4f}\")\n",
        "print(f\"Fit analysis:{fit_analysis}\")"
      ],
      "metadata": {
        "colab": {
          "base_uri": "https://localhost:8080/",
          "height": 1000
        },
        "id": "i-OMXGTGnNQR",
        "outputId": "d05bf507-ee6e-4e33-be05-2b13698cf474"
      },
      "execution_count": null,
      "outputs": [
        {
          "output_type": "stream",
          "name": "stdout",
          "text": [
            "Requirement already satisfied: optuna in /usr/local/lib/python3.10/dist-packages (4.0.0)\n",
            "Requirement already satisfied: alembic>=1.5.0 in /usr/local/lib/python3.10/dist-packages (from optuna) (1.13.2)\n",
            "Requirement already satisfied: colorlog in /usr/local/lib/python3.10/dist-packages (from optuna) (6.8.2)\n",
            "Requirement already satisfied: numpy in /usr/local/lib/python3.10/dist-packages (from optuna) (1.26.4)\n",
            "Requirement already satisfied: packaging>=20.0 in /usr/local/lib/python3.10/dist-packages (from optuna) (24.1)\n",
            "Requirement already satisfied: sqlalchemy>=1.3.0 in /usr/local/lib/python3.10/dist-packages (from optuna) (2.0.32)\n",
            "Requirement already satisfied: tqdm in /usr/local/lib/python3.10/dist-packages (from optuna) (4.66.5)\n",
            "Requirement already satisfied: PyYAML in /usr/local/lib/python3.10/dist-packages (from optuna) (6.0.2)\n",
            "Requirement already satisfied: Mako in /usr/local/lib/python3.10/dist-packages (from alembic>=1.5.0->optuna) (1.3.5)\n",
            "Requirement already satisfied: typing-extensions>=4 in /usr/local/lib/python3.10/dist-packages (from alembic>=1.5.0->optuna) (4.12.2)\n",
            "Requirement already satisfied: greenlet!=0.4.17 in /usr/local/lib/python3.10/dist-packages (from sqlalchemy>=1.3.0->optuna) (3.0.3)\n",
            "Requirement already satisfied: MarkupSafe>=0.9.2 in /usr/local/lib/python3.10/dist-packages (from Mako->alembic>=1.5.0->optuna) (2.1.5)\n"
          ]
        },
        {
          "output_type": "stream",
          "name": "stderr",
          "text": [
            "[I 2024-09-06 06:02:28,097] A new study created in memory with name: no-name-cb296436-af35-41e9-9c2d-aa8847c5438d\n",
            "<ipython-input-7-577ecbae7869>:81: FutureWarning: suggest_loguniform has been deprecated in v3.0.0. This feature will be removed in v6.0.0. See https://github.com/optuna/optuna/releases/tag/v3.0.0. Use suggest_float(..., log=True) instead.\n",
            "  'learning_rate': trial.suggest_loguniform('learning_rate', 1e-5, 1e-2),\n",
            "/usr/local/lib/python3.10/dist-packages/keras/src/layers/convolutional/base_conv.py:107: UserWarning: Do not pass an `input_shape`/`input_dim` argument to a layer. When using Sequential models, prefer using an `Input(shape)` object as the first layer in the model instead.\n",
            "  super().__init__(activity_regularizer=activity_regularizer, **kwargs)\n"
          ]
        },
        {
          "output_type": "stream",
          "name": "stdout",
          "text": [
            "\u001b[1m1594/1594\u001b[0m \u001b[32m━━━━━━━━━━━━━━━━━━━━\u001b[0m\u001b[37m\u001b[0m \u001b[1m3s\u001b[0m 1ms/step\n",
            "\u001b[1m282/282\u001b[0m \u001b[32m━━━━━━━━━━━━━━━━━━━━\u001b[0m\u001b[37m\u001b[0m \u001b[1m1s\u001b[0m 2ms/step\n"
          ]
        },
        {
          "output_type": "stream",
          "name": "stderr",
          "text": [
            "/usr/local/lib/python3.10/dist-packages/sklearn/metrics/_classification.py:1471: UndefinedMetricWarning: Precision is ill-defined and being set to 0.0 in labels with no predicted samples. Use `zero_division` parameter to control this behavior.\n",
            "  _warn_prf(average, modifier, msg_start, len(result))\n",
            "/usr/local/lib/python3.10/dist-packages/sklearn/metrics/_classification.py:1471: UndefinedMetricWarning: Precision is ill-defined and being set to 0.0 in labels with no predicted samples. Use `zero_division` parameter to control this behavior.\n",
            "  _warn_prf(average, modifier, msg_start, len(result))\n",
            "[I 2024-09-06 06:03:08,445] Trial 0 finished with value: 0.018273599192327107 and parameters: {'learning_rate': 0.005947231385103342, 'batch_size': 64, 'epochs': 46}. Best is trial 0 with value: 0.018273599192327107.\n",
            "<ipython-input-7-577ecbae7869>:81: FutureWarning: suggest_loguniform has been deprecated in v3.0.0. This feature will be removed in v6.0.0. See https://github.com/optuna/optuna/releases/tag/v3.0.0. Use suggest_float(..., log=True) instead.\n",
            "  'learning_rate': trial.suggest_loguniform('learning_rate', 1e-5, 1e-2),\n",
            "/usr/local/lib/python3.10/dist-packages/keras/src/layers/convolutional/base_conv.py:107: UserWarning: Do not pass an `input_shape`/`input_dim` argument to a layer. When using Sequential models, prefer using an `Input(shape)` object as the first layer in the model instead.\n",
            "  super().__init__(activity_regularizer=activity_regularizer, **kwargs)\n"
          ]
        },
        {
          "output_type": "stream",
          "name": "stdout",
          "text": [
            "\u001b[1m1594/1594\u001b[0m \u001b[32m━━━━━━━━━━━━━━━━━━━━\u001b[0m\u001b[37m\u001b[0m \u001b[1m3s\u001b[0m 1ms/step\n",
            "\u001b[1m282/282\u001b[0m \u001b[32m━━━━━━━━━━━━━━━━━━━━\u001b[0m\u001b[37m\u001b[0m \u001b[1m1s\u001b[0m 2ms/step\n"
          ]
        },
        {
          "output_type": "stream",
          "name": "stderr",
          "text": [
            "/usr/local/lib/python3.10/dist-packages/sklearn/metrics/_classification.py:1471: UndefinedMetricWarning: Precision is ill-defined and being set to 0.0 in labels with no predicted samples. Use `zero_division` parameter to control this behavior.\n",
            "  _warn_prf(average, modifier, msg_start, len(result))\n",
            "/usr/local/lib/python3.10/dist-packages/sklearn/metrics/_classification.py:1471: UndefinedMetricWarning: Precision is ill-defined and being set to 0.0 in labels with no predicted samples. Use `zero_division` parameter to control this behavior.\n",
            "  _warn_prf(average, modifier, msg_start, len(result))\n",
            "[I 2024-09-06 06:03:35,890] Trial 1 finished with value: 0.018163450853621577 and parameters: {'learning_rate': 0.007330070237992029, 'batch_size': 128, 'epochs': 44}. Best is trial 0 with value: 0.018273599192327107.\n",
            "<ipython-input-7-577ecbae7869>:81: FutureWarning: suggest_loguniform has been deprecated in v3.0.0. This feature will be removed in v6.0.0. See https://github.com/optuna/optuna/releases/tag/v3.0.0. Use suggest_float(..., log=True) instead.\n",
            "  'learning_rate': trial.suggest_loguniform('learning_rate', 1e-5, 1e-2),\n",
            "/usr/local/lib/python3.10/dist-packages/keras/src/layers/convolutional/base_conv.py:107: UserWarning: Do not pass an `input_shape`/`input_dim` argument to a layer. When using Sequential models, prefer using an `Input(shape)` object as the first layer in the model instead.\n",
            "  super().__init__(activity_regularizer=activity_regularizer, **kwargs)\n"
          ]
        },
        {
          "output_type": "stream",
          "name": "stdout",
          "text": [
            "\u001b[1m1594/1594\u001b[0m \u001b[32m━━━━━━━━━━━━━━━━━━━━\u001b[0m\u001b[37m\u001b[0m \u001b[1m3s\u001b[0m 1ms/step\n",
            "\u001b[1m282/282\u001b[0m \u001b[32m━━━━━━━━━━━━━━━━━━━━\u001b[0m\u001b[37m\u001b[0m \u001b[1m1s\u001b[0m 2ms/step\n"
          ]
        },
        {
          "output_type": "stream",
          "name": "stderr",
          "text": [
            "[I 2024-09-06 06:04:49,910] Trial 2 finished with value: 0.9245805616396872 and parameters: {'learning_rate': 5.595217687551397e-05, 'batch_size': 128, 'epochs': 43}. Best is trial 2 with value: 0.9245805616396872.\n",
            "<ipython-input-7-577ecbae7869>:81: FutureWarning: suggest_loguniform has been deprecated in v3.0.0. This feature will be removed in v6.0.0. See https://github.com/optuna/optuna/releases/tag/v3.0.0. Use suggest_float(..., log=True) instead.\n",
            "  'learning_rate': trial.suggest_loguniform('learning_rate', 1e-5, 1e-2),\n",
            "/usr/local/lib/python3.10/dist-packages/keras/src/layers/convolutional/base_conv.py:107: UserWarning: Do not pass an `input_shape`/`input_dim` argument to a layer. When using Sequential models, prefer using an `Input(shape)` object as the first layer in the model instead.\n",
            "  super().__init__(activity_regularizer=activity_regularizer, **kwargs)\n"
          ]
        },
        {
          "output_type": "stream",
          "name": "stdout",
          "text": [
            "\u001b[1m1594/1594\u001b[0m \u001b[32m━━━━━━━━━━━━━━━━━━━━\u001b[0m\u001b[37m\u001b[0m \u001b[1m3s\u001b[0m 1ms/step\n",
            "\u001b[1m282/282\u001b[0m \u001b[32m━━━━━━━━━━━━━━━━━━━━\u001b[0m\u001b[37m\u001b[0m \u001b[1m1s\u001b[0m 2ms/step\n"
          ]
        },
        {
          "output_type": "stream",
          "name": "stderr",
          "text": [
            "[I 2024-09-06 06:05:41,764] Trial 3 finished with value: 0.9135145245482406 and parameters: {'learning_rate': 6.627835081842782e-05, 'batch_size': 128, 'epochs': 27}. Best is trial 2 with value: 0.9245805616396872.\n",
            "<ipython-input-7-577ecbae7869>:81: FutureWarning: suggest_loguniform has been deprecated in v3.0.0. This feature will be removed in v6.0.0. See https://github.com/optuna/optuna/releases/tag/v3.0.0. Use suggest_float(..., log=True) instead.\n",
            "  'learning_rate': trial.suggest_loguniform('learning_rate', 1e-5, 1e-2),\n",
            "/usr/local/lib/python3.10/dist-packages/keras/src/layers/convolutional/base_conv.py:107: UserWarning: Do not pass an `input_shape`/`input_dim` argument to a layer. When using Sequential models, prefer using an `Input(shape)` object as the first layer in the model instead.\n",
            "  super().__init__(activity_regularizer=activity_regularizer, **kwargs)\n"
          ]
        },
        {
          "output_type": "stream",
          "name": "stdout",
          "text": [
            "\u001b[1m1594/1594\u001b[0m \u001b[32m━━━━━━━━━━━━━━━━━━━━\u001b[0m\u001b[37m\u001b[0m \u001b[1m3s\u001b[0m 2ms/step\n",
            "\u001b[1m282/282\u001b[0m \u001b[32m━━━━━━━━━━━━━━━━━━━━\u001b[0m\u001b[37m\u001b[0m \u001b[1m1s\u001b[0m 2ms/step\n"
          ]
        },
        {
          "output_type": "stream",
          "name": "stderr",
          "text": [
            "[I 2024-09-06 06:07:00,510] Trial 4 finished with value: 0.9259820118898666 and parameters: {'learning_rate': 0.0007297938271099019, 'batch_size': 32, 'epochs': 26}. Best is trial 4 with value: 0.9259820118898666.\n",
            "<ipython-input-7-577ecbae7869>:81: FutureWarning: suggest_loguniform has been deprecated in v3.0.0. This feature will be removed in v6.0.0. See https://github.com/optuna/optuna/releases/tag/v3.0.0. Use suggest_float(..., log=True) instead.\n",
            "  'learning_rate': trial.suggest_loguniform('learning_rate', 1e-5, 1e-2),\n",
            "/usr/local/lib/python3.10/dist-packages/keras/src/layers/convolutional/base_conv.py:107: UserWarning: Do not pass an `input_shape`/`input_dim` argument to a layer. When using Sequential models, prefer using an `Input(shape)` object as the first layer in the model instead.\n",
            "  super().__init__(activity_regularizer=activity_regularizer, **kwargs)\n"
          ]
        },
        {
          "output_type": "stream",
          "name": "stdout",
          "text": [
            "\u001b[1m1594/1594\u001b[0m \u001b[32m━━━━━━━━━━━━━━━━━━━━\u001b[0m\u001b[37m\u001b[0m \u001b[1m3s\u001b[0m 1ms/step\n",
            "\u001b[1m282/282\u001b[0m \u001b[32m━━━━━━━━━━━━━━━━━━━━\u001b[0m\u001b[37m\u001b[0m \u001b[1m1s\u001b[0m 2ms/step\n"
          ]
        },
        {
          "output_type": "stream",
          "name": "stderr",
          "text": [
            "[I 2024-09-06 06:08:46,916] Trial 5 finished with value: 0.9322244105867815 and parameters: {'learning_rate': 0.00017941447237511263, 'batch_size': 32, 'epochs': 35}. Best is trial 5 with value: 0.9322244105867815.\n",
            "<ipython-input-7-577ecbae7869>:81: FutureWarning: suggest_loguniform has been deprecated in v3.0.0. This feature will be removed in v6.0.0. See https://github.com/optuna/optuna/releases/tag/v3.0.0. Use suggest_float(..., log=True) instead.\n",
            "  'learning_rate': trial.suggest_loguniform('learning_rate', 1e-5, 1e-2),\n",
            "/usr/local/lib/python3.10/dist-packages/keras/src/layers/convolutional/base_conv.py:107: UserWarning: Do not pass an `input_shape`/`input_dim` argument to a layer. When using Sequential models, prefer using an `Input(shape)` object as the first layer in the model instead.\n",
            "  super().__init__(activity_regularizer=activity_regularizer, **kwargs)\n"
          ]
        },
        {
          "output_type": "stream",
          "name": "stdout",
          "text": [
            "\u001b[1m1594/1594\u001b[0m \u001b[32m━━━━━━━━━━━━━━━━━━━━\u001b[0m\u001b[37m\u001b[0m \u001b[1m3s\u001b[0m 1ms/step\n",
            "\u001b[1m282/282\u001b[0m \u001b[32m━━━━━━━━━━━━━━━━━━━━\u001b[0m\u001b[37m\u001b[0m \u001b[1m1s\u001b[0m 2ms/step\n"
          ]
        },
        {
          "output_type": "stream",
          "name": "stderr",
          "text": [
            "/usr/local/lib/python3.10/dist-packages/sklearn/metrics/_classification.py:1471: UndefinedMetricWarning: Precision is ill-defined and being set to 0.0 in labels with no predicted samples. Use `zero_division` parameter to control this behavior.\n",
            "  _warn_prf(average, modifier, msg_start, len(result))\n",
            "/usr/local/lib/python3.10/dist-packages/sklearn/metrics/_classification.py:1471: UndefinedMetricWarning: Precision is ill-defined and being set to 0.0 in labels with no predicted samples. Use `zero_division` parameter to control this behavior.\n",
            "  _warn_prf(average, modifier, msg_start, len(result))\n",
            "[I 2024-09-06 06:09:20,279] Trial 6 finished with value: 0.018291944276196244 and parameters: {'learning_rate': 0.00863235878844121, 'batch_size': 64, 'epochs': 25}. Best is trial 5 with value: 0.9322244105867815.\n",
            "<ipython-input-7-577ecbae7869>:81: FutureWarning: suggest_loguniform has been deprecated in v3.0.0. This feature will be removed in v6.0.0. See https://github.com/optuna/optuna/releases/tag/v3.0.0. Use suggest_float(..., log=True) instead.\n",
            "  'learning_rate': trial.suggest_loguniform('learning_rate', 1e-5, 1e-2),\n",
            "/usr/local/lib/python3.10/dist-packages/keras/src/layers/convolutional/base_conv.py:107: UserWarning: Do not pass an `input_shape`/`input_dim` argument to a layer. When using Sequential models, prefer using an `Input(shape)` object as the first layer in the model instead.\n",
            "  super().__init__(activity_regularizer=activity_regularizer, **kwargs)\n"
          ]
        },
        {
          "output_type": "stream",
          "name": "stdout",
          "text": [
            "\u001b[1m1594/1594\u001b[0m \u001b[32m━━━━━━━━━━━━━━━━━━━━\u001b[0m\u001b[37m\u001b[0m \u001b[1m3s\u001b[0m 2ms/step\n",
            "\u001b[1m282/282\u001b[0m \u001b[32m━━━━━━━━━━━━━━━━━━━━\u001b[0m\u001b[37m\u001b[0m \u001b[1m1s\u001b[0m 2ms/step\n"
          ]
        },
        {
          "output_type": "stream",
          "name": "stderr",
          "text": [
            "[I 2024-09-06 06:10:33,972] Trial 7 finished with value: 0.8838260451985331 and parameters: {'learning_rate': 0.0027086118994709037, 'batch_size': 32, 'epochs': 28}. Best is trial 5 with value: 0.9322244105867815.\n",
            "<ipython-input-7-577ecbae7869>:81: FutureWarning: suggest_loguniform has been deprecated in v3.0.0. This feature will be removed in v6.0.0. See https://github.com/optuna/optuna/releases/tag/v3.0.0. Use suggest_float(..., log=True) instead.\n",
            "  'learning_rate': trial.suggest_loguniform('learning_rate', 1e-5, 1e-2),\n",
            "/usr/local/lib/python3.10/dist-packages/keras/src/layers/convolutional/base_conv.py:107: UserWarning: Do not pass an `input_shape`/`input_dim` argument to a layer. When using Sequential models, prefer using an `Input(shape)` object as the first layer in the model instead.\n",
            "  super().__init__(activity_regularizer=activity_regularizer, **kwargs)\n"
          ]
        },
        {
          "output_type": "stream",
          "name": "stdout",
          "text": [
            "\u001b[1m1594/1594\u001b[0m \u001b[32m━━━━━━━━━━━━━━━━━━━━\u001b[0m\u001b[37m\u001b[0m \u001b[1m3s\u001b[0m 2ms/step\n",
            "\u001b[1m282/282\u001b[0m \u001b[32m━━━━━━━━━━━━━━━━━━━━\u001b[0m\u001b[37m\u001b[0m \u001b[1m1s\u001b[0m 2ms/step\n"
          ]
        },
        {
          "output_type": "stream",
          "name": "stderr",
          "text": [
            "[I 2024-09-06 06:11:12,861] Trial 8 finished with value: 0.930721054889618 and parameters: {'learning_rate': 0.0007331953387458526, 'batch_size': 128, 'epochs': 30}. Best is trial 5 with value: 0.9322244105867815.\n",
            "<ipython-input-7-577ecbae7869>:81: FutureWarning: suggest_loguniform has been deprecated in v3.0.0. This feature will be removed in v6.0.0. See https://github.com/optuna/optuna/releases/tag/v3.0.0. Use suggest_float(..., log=True) instead.\n",
            "  'learning_rate': trial.suggest_loguniform('learning_rate', 1e-5, 1e-2),\n",
            "/usr/local/lib/python3.10/dist-packages/keras/src/layers/convolutional/base_conv.py:107: UserWarning: Do not pass an `input_shape`/`input_dim` argument to a layer. When using Sequential models, prefer using an `Input(shape)` object as the first layer in the model instead.\n",
            "  super().__init__(activity_regularizer=activity_regularizer, **kwargs)\n"
          ]
        },
        {
          "output_type": "stream",
          "name": "stdout",
          "text": [
            "\u001b[1m1594/1594\u001b[0m \u001b[32m━━━━━━━━━━━━━━━━━━━━\u001b[0m\u001b[37m\u001b[0m \u001b[1m3s\u001b[0m 1ms/step\n",
            "\u001b[1m282/282\u001b[0m \u001b[32m━━━━━━━━━━━━━━━━━━━━\u001b[0m\u001b[37m\u001b[0m \u001b[1m1s\u001b[0m 2ms/step\n"
          ]
        },
        {
          "output_type": "stream",
          "name": "stderr",
          "text": [
            "[I 2024-09-06 06:12:17,840] Trial 9 finished with value: 0.9127430421573044 and parameters: {'learning_rate': 5.8455598079973826e-05, 'batch_size': 64, 'epochs': 23}. Best is trial 5 with value: 0.9322244105867815.\n",
            "<ipython-input-7-577ecbae7869>:81: FutureWarning: suggest_loguniform has been deprecated in v3.0.0. This feature will be removed in v6.0.0. See https://github.com/optuna/optuna/releases/tag/v3.0.0. Use suggest_float(..., log=True) instead.\n",
            "  'learning_rate': trial.suggest_loguniform('learning_rate', 1e-5, 1e-2),\n",
            "/usr/local/lib/python3.10/dist-packages/keras/src/layers/convolutional/base_conv.py:107: UserWarning: Do not pass an `input_shape`/`input_dim` argument to a layer. When using Sequential models, prefer using an `Input(shape)` object as the first layer in the model instead.\n",
            "  super().__init__(activity_regularizer=activity_regularizer, **kwargs)\n"
          ]
        },
        {
          "output_type": "stream",
          "name": "stdout",
          "text": [
            "\u001b[1m1594/1594\u001b[0m \u001b[32m━━━━━━━━━━━━━━━━━━━━\u001b[0m\u001b[37m\u001b[0m \u001b[1m3s\u001b[0m 1ms/step\n",
            "\u001b[1m282/282\u001b[0m \u001b[32m━━━━━━━━━━━━━━━━━━━━\u001b[0m\u001b[37m\u001b[0m \u001b[1m1s\u001b[0m 2ms/step\n"
          ]
        },
        {
          "output_type": "stream",
          "name": "stderr",
          "text": [
            "[I 2024-09-06 06:15:04,038] Trial 10 finished with value: 0.8994582516146392 and parameters: {'learning_rate': 1.3901056255301229e-05, 'batch_size': 32, 'epochs': 38}. Best is trial 5 with value: 0.9322244105867815.\n",
            "<ipython-input-7-577ecbae7869>:81: FutureWarning: suggest_loguniform has been deprecated in v3.0.0. This feature will be removed in v6.0.0. See https://github.com/optuna/optuna/releases/tag/v3.0.0. Use suggest_float(..., log=True) instead.\n",
            "  'learning_rate': trial.suggest_loguniform('learning_rate', 1e-5, 1e-2),\n",
            "/usr/local/lib/python3.10/dist-packages/keras/src/layers/convolutional/base_conv.py:107: UserWarning: Do not pass an `input_shape`/`input_dim` argument to a layer. When using Sequential models, prefer using an `Input(shape)` object as the first layer in the model instead.\n",
            "  super().__init__(activity_regularizer=activity_regularizer, **kwargs)\n"
          ]
        },
        {
          "output_type": "stream",
          "name": "stdout",
          "text": [
            "\u001b[1m1594/1594\u001b[0m \u001b[32m━━━━━━━━━━━━━━━━━━━━\u001b[0m\u001b[37m\u001b[0m \u001b[1m3s\u001b[0m 2ms/step\n",
            "\u001b[1m282/282\u001b[0m \u001b[32m━━━━━━━━━━━━━━━━━━━━\u001b[0m\u001b[37m\u001b[0m \u001b[1m1s\u001b[0m 2ms/step\n"
          ]
        },
        {
          "output_type": "stream",
          "name": "stderr",
          "text": [
            "[I 2024-09-06 06:16:30,506] Trial 11 finished with value: 0.9295426709093488 and parameters: {'learning_rate': 0.00044779387717081996, 'batch_size': 32, 'epochs': 34}. Best is trial 5 with value: 0.9322244105867815.\n",
            "<ipython-input-7-577ecbae7869>:81: FutureWarning: suggest_loguniform has been deprecated in v3.0.0. This feature will be removed in v6.0.0. See https://github.com/optuna/optuna/releases/tag/v3.0.0. Use suggest_float(..., log=True) instead.\n",
            "  'learning_rate': trial.suggest_loguniform('learning_rate', 1e-5, 1e-2),\n",
            "/usr/local/lib/python3.10/dist-packages/keras/src/layers/convolutional/base_conv.py:107: UserWarning: Do not pass an `input_shape`/`input_dim` argument to a layer. When using Sequential models, prefer using an `Input(shape)` object as the first layer in the model instead.\n",
            "  super().__init__(activity_regularizer=activity_regularizer, **kwargs)\n"
          ]
        },
        {
          "output_type": "stream",
          "name": "stdout",
          "text": [
            "\u001b[1m1594/1594\u001b[0m \u001b[32m━━━━━━━━━━━━━━━━━━━━\u001b[0m\u001b[37m\u001b[0m \u001b[1m3s\u001b[0m 1ms/step\n",
            "\u001b[1m282/282\u001b[0m \u001b[32m━━━━━━━━━━━━━━━━━━━━\u001b[0m\u001b[37m\u001b[0m \u001b[1m1s\u001b[0m 2ms/step\n"
          ]
        },
        {
          "output_type": "stream",
          "name": "stderr",
          "text": [
            "[I 2024-09-06 06:17:23,520] Trial 12 finished with value: 0.9327113497066662 and parameters: {'learning_rate': 0.0012969689402359719, 'batch_size': 128, 'epochs': 33}. Best is trial 12 with value: 0.9327113497066662.\n",
            "<ipython-input-7-577ecbae7869>:81: FutureWarning: suggest_loguniform has been deprecated in v3.0.0. This feature will be removed in v6.0.0. See https://github.com/optuna/optuna/releases/tag/v3.0.0. Use suggest_float(..., log=True) instead.\n",
            "  'learning_rate': trial.suggest_loguniform('learning_rate', 1e-5, 1e-2),\n",
            "/usr/local/lib/python3.10/dist-packages/keras/src/layers/convolutional/base_conv.py:107: UserWarning: Do not pass an `input_shape`/`input_dim` argument to a layer. When using Sequential models, prefer using an `Input(shape)` object as the first layer in the model instead.\n",
            "  super().__init__(activity_regularizer=activity_regularizer, **kwargs)\n"
          ]
        },
        {
          "output_type": "stream",
          "name": "stdout",
          "text": [
            "\u001b[1m1594/1594\u001b[0m \u001b[32m━━━━━━━━━━━━━━━━━━━━\u001b[0m\u001b[37m\u001b[0m \u001b[1m3s\u001b[0m 1ms/step\n",
            "\u001b[1m282/282\u001b[0m \u001b[32m━━━━━━━━━━━━━━━━━━━━\u001b[0m\u001b[37m\u001b[0m \u001b[1m1s\u001b[0m 2ms/step\n"
          ]
        },
        {
          "output_type": "stream",
          "name": "stderr",
          "text": [
            "[I 2024-09-06 06:18:30,255] Trial 13 finished with value: 0.9344011422019018 and parameters: {'learning_rate': 0.00018596298961686363, 'batch_size': 128, 'epochs': 37}. Best is trial 13 with value: 0.9344011422019018.\n",
            "<ipython-input-7-577ecbae7869>:81: FutureWarning: suggest_loguniform has been deprecated in v3.0.0. This feature will be removed in v6.0.0. See https://github.com/optuna/optuna/releases/tag/v3.0.0. Use suggest_float(..., log=True) instead.\n",
            "  'learning_rate': trial.suggest_loguniform('learning_rate', 1e-5, 1e-2),\n",
            "/usr/local/lib/python3.10/dist-packages/keras/src/layers/convolutional/base_conv.py:107: UserWarning: Do not pass an `input_shape`/`input_dim` argument to a layer. When using Sequential models, prefer using an `Input(shape)` object as the first layer in the model instead.\n",
            "  super().__init__(activity_regularizer=activity_regularizer, **kwargs)\n"
          ]
        },
        {
          "output_type": "stream",
          "name": "stdout",
          "text": [
            "\u001b[1m1594/1594\u001b[0m \u001b[32m━━━━━━━━━━━━━━━━━━━━\u001b[0m\u001b[37m\u001b[0m \u001b[1m3s\u001b[0m 1ms/step\n",
            "\u001b[1m282/282\u001b[0m \u001b[32m━━━━━━━━━━━━━━━━━━━━\u001b[0m\u001b[37m\u001b[0m \u001b[1m1s\u001b[0m 2ms/step\n"
          ]
        },
        {
          "output_type": "stream",
          "name": "stderr",
          "text": [
            "[I 2024-09-06 06:19:20,276] Trial 14 finished with value: 0.9284344146549619 and parameters: {'learning_rate': 0.0017052310096849431, 'batch_size': 128, 'epochs': 39}. Best is trial 13 with value: 0.9344011422019018.\n",
            "<ipython-input-7-577ecbae7869>:81: FutureWarning: suggest_loguniform has been deprecated in v3.0.0. This feature will be removed in v6.0.0. See https://github.com/optuna/optuna/releases/tag/v3.0.0. Use suggest_float(..., log=True) instead.\n",
            "  'learning_rate': trial.suggest_loguniform('learning_rate', 1e-5, 1e-2),\n",
            "/usr/local/lib/python3.10/dist-packages/keras/src/layers/convolutional/base_conv.py:107: UserWarning: Do not pass an `input_shape`/`input_dim` argument to a layer. When using Sequential models, prefer using an `Input(shape)` object as the first layer in the model instead.\n",
            "  super().__init__(activity_regularizer=activity_regularizer, **kwargs)\n"
          ]
        },
        {
          "output_type": "stream",
          "name": "stdout",
          "text": [
            "\u001b[1m1594/1594\u001b[0m \u001b[32m━━━━━━━━━━━━━━━━━━━━\u001b[0m\u001b[37m\u001b[0m \u001b[1m3s\u001b[0m 2ms/step\n",
            "\u001b[1m282/282\u001b[0m \u001b[32m━━━━━━━━━━━━━━━━━━━━\u001b[0m\u001b[37m\u001b[0m \u001b[1m1s\u001b[0m 2ms/step\n"
          ]
        },
        {
          "output_type": "stream",
          "name": "stderr",
          "text": [
            "[I 2024-09-06 06:20:18,735] Trial 15 finished with value: 0.9329489994499184 and parameters: {'learning_rate': 0.00017808885657753974, 'batch_size': 128, 'epochs': 32}. Best is trial 13 with value: 0.9344011422019018.\n",
            "<ipython-input-7-577ecbae7869>:81: FutureWarning: suggest_loguniform has been deprecated in v3.0.0. This feature will be removed in v6.0.0. See https://github.com/optuna/optuna/releases/tag/v3.0.0. Use suggest_float(..., log=True) instead.\n",
            "  'learning_rate': trial.suggest_loguniform('learning_rate', 1e-5, 1e-2),\n",
            "/usr/local/lib/python3.10/dist-packages/keras/src/layers/convolutional/base_conv.py:107: UserWarning: Do not pass an `input_shape`/`input_dim` argument to a layer. When using Sequential models, prefer using an `Input(shape)` object as the first layer in the model instead.\n",
            "  super().__init__(activity_regularizer=activity_regularizer, **kwargs)\n"
          ]
        },
        {
          "output_type": "stream",
          "name": "stdout",
          "text": [
            "\u001b[1m1594/1594\u001b[0m \u001b[32m━━━━━━━━━━━━━━━━━━━━\u001b[0m\u001b[37m\u001b[0m \u001b[1m3s\u001b[0m 2ms/step\n",
            "\u001b[1m282/282\u001b[0m \u001b[32m━━━━━━━━━━━━━━━━━━━━\u001b[0m\u001b[37m\u001b[0m \u001b[1m1s\u001b[0m 2ms/step\n"
          ]
        },
        {
          "output_type": "stream",
          "name": "stderr",
          "text": [
            "[I 2024-09-06 06:21:33,939] Trial 16 finished with value: 0.9297266340225947 and parameters: {'learning_rate': 0.0001314481648541321, 'batch_size': 128, 'epochs': 49}. Best is trial 13 with value: 0.9344011422019018.\n",
            "<ipython-input-7-577ecbae7869>:81: FutureWarning: suggest_loguniform has been deprecated in v3.0.0. This feature will be removed in v6.0.0. See https://github.com/optuna/optuna/releases/tag/v3.0.0. Use suggest_float(..., log=True) instead.\n",
            "  'learning_rate': trial.suggest_loguniform('learning_rate', 1e-5, 1e-2),\n",
            "/usr/local/lib/python3.10/dist-packages/keras/src/layers/convolutional/base_conv.py:107: UserWarning: Do not pass an `input_shape`/`input_dim` argument to a layer. When using Sequential models, prefer using an `Input(shape)` object as the first layer in the model instead.\n",
            "  super().__init__(activity_regularizer=activity_regularizer, **kwargs)\n"
          ]
        },
        {
          "output_type": "stream",
          "name": "stdout",
          "text": [
            "\u001b[1m1594/1594\u001b[0m \u001b[32m━━━━━━━━━━━━━━━━━━━━\u001b[0m\u001b[37m\u001b[0m \u001b[1m3s\u001b[0m 2ms/step\n",
            "\u001b[1m282/282\u001b[0m \u001b[32m━━━━━━━━━━━━━━━━━━━━\u001b[0m\u001b[37m\u001b[0m \u001b[1m1s\u001b[0m 2ms/step\n"
          ]
        },
        {
          "output_type": "stream",
          "name": "stderr",
          "text": [
            "[I 2024-09-06 06:22:42,336] Trial 17 finished with value: 0.8811259822413261 and parameters: {'learning_rate': 1.5875890277613955e-05, 'batch_size': 128, 'epochs': 39}. Best is trial 13 with value: 0.9344011422019018.\n",
            "<ipython-input-7-577ecbae7869>:81: FutureWarning: suggest_loguniform has been deprecated in v3.0.0. This feature will be removed in v6.0.0. See https://github.com/optuna/optuna/releases/tag/v3.0.0. Use suggest_float(..., log=True) instead.\n",
            "  'learning_rate': trial.suggest_loguniform('learning_rate', 1e-5, 1e-2),\n",
            "/usr/local/lib/python3.10/dist-packages/keras/src/layers/convolutional/base_conv.py:107: UserWarning: Do not pass an `input_shape`/`input_dim` argument to a layer. When using Sequential models, prefer using an `Input(shape)` object as the first layer in the model instead.\n",
            "  super().__init__(activity_regularizer=activity_regularizer, **kwargs)\n"
          ]
        },
        {
          "output_type": "stream",
          "name": "stdout",
          "text": [
            "\u001b[1m1594/1594\u001b[0m \u001b[32m━━━━━━━━━━━━━━━━━━━━\u001b[0m\u001b[37m\u001b[0m \u001b[1m3s\u001b[0m 1ms/step\n",
            "\u001b[1m282/282\u001b[0m \u001b[32m━━━━━━━━━━━━━━━━━━━━\u001b[0m\u001b[37m\u001b[0m \u001b[1m1s\u001b[0m 2ms/step\n"
          ]
        },
        {
          "output_type": "stream",
          "name": "stderr",
          "text": [
            "[I 2024-09-06 06:23:39,429] Trial 18 finished with value: 0.9358344786742444 and parameters: {'learning_rate': 0.0002666950112884184, 'batch_size': 128, 'epochs': 31}. Best is trial 18 with value: 0.9358344786742444.\n",
            "<ipython-input-7-577ecbae7869>:81: FutureWarning: suggest_loguniform has been deprecated in v3.0.0. This feature will be removed in v6.0.0. See https://github.com/optuna/optuna/releases/tag/v3.0.0. Use suggest_float(..., log=True) instead.\n",
            "  'learning_rate': trial.suggest_loguniform('learning_rate', 1e-5, 1e-2),\n",
            "/usr/local/lib/python3.10/dist-packages/keras/src/layers/convolutional/base_conv.py:107: UserWarning: Do not pass an `input_shape`/`input_dim` argument to a layer. When using Sequential models, prefer using an `Input(shape)` object as the first layer in the model instead.\n",
            "  super().__init__(activity_regularizer=activity_regularizer, **kwargs)\n"
          ]
        },
        {
          "output_type": "stream",
          "name": "stdout",
          "text": [
            "\u001b[1m1594/1594\u001b[0m \u001b[32m━━━━━━━━━━━━━━━━━━━━\u001b[0m\u001b[37m\u001b[0m \u001b[1m3s\u001b[0m 1ms/step\n",
            "\u001b[1m282/282\u001b[0m \u001b[32m━━━━━━━━━━━━━━━━━━━━\u001b[0m\u001b[37m\u001b[0m \u001b[1m1s\u001b[0m 2ms/step\n"
          ]
        },
        {
          "output_type": "stream",
          "name": "stderr",
          "text": [
            "[I 2024-09-06 06:24:21,753] Trial 19 finished with value: 0.9320819686608385 and parameters: {'learning_rate': 0.00027921127220444705, 'batch_size': 128, 'epochs': 20}. Best is trial 18 with value: 0.9358344786742444.\n",
            "<ipython-input-7-577ecbae7869>:81: FutureWarning: suggest_loguniform has been deprecated in v3.0.0. This feature will be removed in v6.0.0. See https://github.com/optuna/optuna/releases/tag/v3.0.0. Use suggest_float(..., log=True) instead.\n",
            "  'learning_rate': trial.suggest_loguniform('learning_rate', 1e-5, 1e-2),\n",
            "/usr/local/lib/python3.10/dist-packages/keras/src/layers/convolutional/base_conv.py:107: UserWarning: Do not pass an `input_shape`/`input_dim` argument to a layer. When using Sequential models, prefer using an `Input(shape)` object as the first layer in the model instead.\n",
            "  super().__init__(activity_regularizer=activity_regularizer, **kwargs)\n"
          ]
        },
        {
          "output_type": "stream",
          "name": "stdout",
          "text": [
            "\u001b[1m1594/1594\u001b[0m \u001b[32m━━━━━━━━━━━━━━━━━━━━\u001b[0m\u001b[37m\u001b[0m \u001b[1m3s\u001b[0m 2ms/step\n",
            "\u001b[1m282/282\u001b[0m \u001b[32m━━━━━━━━━━━━━━━━━━━━\u001b[0m\u001b[37m\u001b[0m \u001b[1m1s\u001b[0m 2ms/step\n"
          ]
        },
        {
          "output_type": "stream",
          "name": "stderr",
          "text": [
            "[I 2024-09-06 06:25:42,332] Trial 20 finished with value: 0.9063452648496761 and parameters: {'learning_rate': 2.8411662825627764e-05, 'batch_size': 64, 'epochs': 30}. Best is trial 18 with value: 0.9358344786742444.\n",
            "<ipython-input-7-577ecbae7869>:81: FutureWarning: suggest_loguniform has been deprecated in v3.0.0. This feature will be removed in v6.0.0. See https://github.com/optuna/optuna/releases/tag/v3.0.0. Use suggest_float(..., log=True) instead.\n",
            "  'learning_rate': trial.suggest_loguniform('learning_rate', 1e-5, 1e-2),\n",
            "/usr/local/lib/python3.10/dist-packages/keras/src/layers/convolutional/base_conv.py:107: UserWarning: Do not pass an `input_shape`/`input_dim` argument to a layer. When using Sequential models, prefer using an `Input(shape)` object as the first layer in the model instead.\n",
            "  super().__init__(activity_regularizer=activity_regularizer, **kwargs)\n"
          ]
        },
        {
          "output_type": "stream",
          "name": "stdout",
          "text": [
            "\u001b[1m1594/1594\u001b[0m \u001b[32m━━━━━━━━━━━━━━━━━━━━\u001b[0m\u001b[37m\u001b[0m \u001b[1m3s\u001b[0m 1ms/step\n",
            "\u001b[1m282/282\u001b[0m \u001b[32m━━━━━━━━━━━━━━━━━━━━\u001b[0m\u001b[37m\u001b[0m \u001b[1m1s\u001b[0m 2ms/step\n"
          ]
        },
        {
          "output_type": "stream",
          "name": "stderr",
          "text": [
            "[I 2024-09-06 06:26:39,405] Trial 21 finished with value: 0.9312685274090133 and parameters: {'learning_rate': 0.00014605818287108136, 'batch_size': 128, 'epochs': 31}. Best is trial 18 with value: 0.9358344786742444.\n",
            "<ipython-input-7-577ecbae7869>:81: FutureWarning: suggest_loguniform has been deprecated in v3.0.0. This feature will be removed in v6.0.0. See https://github.com/optuna/optuna/releases/tag/v3.0.0. Use suggest_float(..., log=True) instead.\n",
            "  'learning_rate': trial.suggest_loguniform('learning_rate', 1e-5, 1e-2),\n",
            "/usr/local/lib/python3.10/dist-packages/keras/src/layers/convolutional/base_conv.py:107: UserWarning: Do not pass an `input_shape`/`input_dim` argument to a layer. When using Sequential models, prefer using an `Input(shape)` object as the first layer in the model instead.\n",
            "  super().__init__(activity_regularizer=activity_regularizer, **kwargs)\n"
          ]
        },
        {
          "output_type": "stream",
          "name": "stdout",
          "text": [
            "\u001b[1m1594/1594\u001b[0m \u001b[32m━━━━━━━━━━━━━━━━━━━━\u001b[0m\u001b[37m\u001b[0m \u001b[1m3s\u001b[0m 1ms/step\n",
            "\u001b[1m282/282\u001b[0m \u001b[32m━━━━━━━━━━━━━━━━━━━━\u001b[0m\u001b[37m\u001b[0m \u001b[1m1s\u001b[0m 2ms/step\n"
          ]
        },
        {
          "output_type": "stream",
          "name": "stderr",
          "text": [
            "[I 2024-09-06 06:27:33,467] Trial 22 finished with value: 0.9331513327704755 and parameters: {'learning_rate': 0.00038348662148011015, 'batch_size': 128, 'epochs': 38}. Best is trial 18 with value: 0.9358344786742444.\n",
            "<ipython-input-7-577ecbae7869>:81: FutureWarning: suggest_loguniform has been deprecated in v3.0.0. This feature will be removed in v6.0.0. See https://github.com/optuna/optuna/releases/tag/v3.0.0. Use suggest_float(..., log=True) instead.\n",
            "  'learning_rate': trial.suggest_loguniform('learning_rate', 1e-5, 1e-2),\n",
            "/usr/local/lib/python3.10/dist-packages/keras/src/layers/convolutional/base_conv.py:107: UserWarning: Do not pass an `input_shape`/`input_dim` argument to a layer. When using Sequential models, prefer using an `Input(shape)` object as the first layer in the model instead.\n",
            "  super().__init__(activity_regularizer=activity_regularizer, **kwargs)\n"
          ]
        },
        {
          "output_type": "stream",
          "name": "stdout",
          "text": [
            "\u001b[1m1594/1594\u001b[0m \u001b[32m━━━━━━━━━━━━━━━━━━━━\u001b[0m\u001b[37m\u001b[0m \u001b[1m3s\u001b[0m 1ms/step\n",
            "\u001b[1m282/282\u001b[0m \u001b[32m━━━━━━━━━━━━━━━━━━━━\u001b[0m\u001b[37m\u001b[0m \u001b[1m1s\u001b[0m 2ms/step\n"
          ]
        },
        {
          "output_type": "stream",
          "name": "stderr",
          "text": [
            "[I 2024-09-06 06:28:33,284] Trial 23 finished with value: 0.9375409785602068 and parameters: {'learning_rate': 0.00033637566546748665, 'batch_size': 128, 'epochs': 37}. Best is trial 23 with value: 0.9375409785602068.\n",
            "<ipython-input-7-577ecbae7869>:81: FutureWarning: suggest_loguniform has been deprecated in v3.0.0. This feature will be removed in v6.0.0. See https://github.com/optuna/optuna/releases/tag/v3.0.0. Use suggest_float(..., log=True) instead.\n",
            "  'learning_rate': trial.suggest_loguniform('learning_rate', 1e-5, 1e-2),\n",
            "/usr/local/lib/python3.10/dist-packages/keras/src/layers/convolutional/base_conv.py:107: UserWarning: Do not pass an `input_shape`/`input_dim` argument to a layer. When using Sequential models, prefer using an `Input(shape)` object as the first layer in the model instead.\n",
            "  super().__init__(activity_regularizer=activity_regularizer, **kwargs)\n"
          ]
        },
        {
          "output_type": "stream",
          "name": "stdout",
          "text": [
            "\u001b[1m1594/1594\u001b[0m \u001b[32m━━━━━━━━━━━━━━━━━━━━\u001b[0m\u001b[37m\u001b[0m \u001b[1m3s\u001b[0m 1ms/step\n",
            "\u001b[1m282/282\u001b[0m \u001b[32m━━━━━━━━━━━━━━━━━━━━\u001b[0m\u001b[37m\u001b[0m \u001b[1m1s\u001b[0m 2ms/step\n"
          ]
        },
        {
          "output_type": "stream",
          "name": "stderr",
          "text": [
            "[I 2024-09-06 06:29:45,736] Trial 24 finished with value: 0.9268348718525212 and parameters: {'learning_rate': 8.761597152943778e-05, 'batch_size': 128, 'epochs': 42}. Best is trial 23 with value: 0.9375409785602068.\n"
          ]
        },
        {
          "output_type": "stream",
          "name": "stdout",
          "text": [
            "Study completed!\n"
          ]
        },
        {
          "output_type": "stream",
          "name": "stderr",
          "text": [
            "/usr/local/lib/python3.10/dist-packages/keras/src/layers/convolutional/base_conv.py:107: UserWarning: Do not pass an `input_shape`/`input_dim` argument to a layer. When using Sequential models, prefer using an `Input(shape)` object as the first layer in the model instead.\n",
            "  super().__init__(activity_regularizer=activity_regularizer, **kwargs)\n"
          ]
        },
        {
          "output_type": "stream",
          "name": "stdout",
          "text": [
            "\u001b[1m313/313\u001b[0m \u001b[32m━━━━━━━━━━━━━━━━━━━━\u001b[0m\u001b[37m\u001b[0m \u001b[1m1s\u001b[0m 2ms/step\n",
            "\u001b[1m1875/1875\u001b[0m \u001b[32m━━━━━━━━━━━━━━━━━━━━\u001b[0m\u001b[37m\u001b[0m \u001b[1m3s\u001b[0m 1ms/step\n"
          ]
        },
        {
          "output_type": "display_data",
          "data": {
            "text/plain": [
              "<Figure size 640x480 with 2 Axes>"
            ],
            "image/png": "[encoded data removed]"
          },
          "metadata": {}
        },
        {
          "output_type": "display_data",
          "data": {
            "text/plain": [
              "<Figure size 640x480 with 1 Axes>"
            ],
            "image/png": "[encoded data removed]"
          },
          "metadata": {}
        },
        {
          "output_type": "display_data",
          "data": {
            "text/plain": [
              "<Figure size 640x480 with 1 Axes>"
            ],
            "image/png": "[encoded data removed]"
          },
          "metadata": {}
        },
        {
          "output_type": "stream",
          "name": "stdout",
          "text": [
            "Train accuracy: 0.9856\n",
            "Test Accuracy: 0.9374\n",
            "Precision: 0.9371\n",
            "Recall: 0.9374\n",
            "Fit analysis:The model's fitting performance is: Acceptable performance\n"
          ]
        }
      ]
    },
    {
      "cell_type": "markdown",
      "source": [
        "##Approach 2: Image Embeddings to SVC"
      ],
      "metadata": {
        "id": "YMABGFkDRGiV"
      }
    },
    {
      "cell_type": "code",
      "source": [
        "import tensorflow as tf\n",
        "from tensorflow import keras\n",
        "import pandas as pd\n",
        "import torch\n",
        "import numpy as np\n",
        "import optuna\n",
        "from sklearn.decomposition import PCA\n",
        "from sklearn.preprocessing import StandardScaler, LabelEncoder\n",
        "from sklearn.metrics import accuracy_score\n",
        "from sklearn.svm import SVC\n",
        "from sklearn.metrics import f1_score\n",
        "from sklearn.model_selection import train_test_split\n",
        "from sklearn.metrics import accuracy_score, precision_score, recall_score, f1_score, confusion_matrix, ConfusionMatrixDisplay\n",
        "from tensorflow.keras.models import Sequential\n",
        "from tensorflow.keras.layers import Conv2D, MaxPool2D , Flatten, Dropout, Dense, Input\n",
        "import matplotlib.pyplot as plt\n",
        "from tensorflow.keras.callbacks import EarlyStopping\n",
        "from tensorflow.keras.preprocessing.image import ImageDataGenerator\n",
        "from tensorflow.keras.models import Model\n",
        "\n",
        "# Data Preprocessing\n",
        "def preprocessing(x_train, x_test):\n",
        "\n",
        "    normalization_layer = tf.keras.layers.Rescaling(1./255)\n",
        "\n",
        "    x_train = normalization_layer(x_train)\n",
        "    x_test = normalization_layer(x_test)\n",
        "\n",
        "    x_train = np.expand_dims(x_train, axis=-1)\n",
        "    x_test = np.expand_dims(x_test, axis=-1)\n",
        "\n",
        "    return x_train, x_test\n",
        "\n",
        "# Model Definition: VGG16 based model\n",
        "# I have used the Functional API instead of Sequential() because it is easier to extract outputs from intermediate layers\n",
        "def define_model(n_blocks):\n",
        "    inputs = Input(shape=(28,28,1))\n",
        "\n",
        "    x = Conv2D(filters=64, kernel_size=(3,3), padding=\"same\", activation=\"relu\")(inputs)\n",
        "    x = Conv2D(filters=32, kernel_size=(3,3), padding=\"same\", activation=\"relu\")(x)\n",
        "    x = MaxPool2D(pool_size=(2,2), strides=(2,2))(x)\n",
        "    x = Dropout(0.3)(x)\n",
        "\n",
        "    for i in range(n_blocks):\n",
        "        x = Conv2D(filters=32*(2**(i+1)), kernel_size=(3,3), padding=\"same\", activation=\"relu\")(x)\n",
        "        x = Conv2D(filters=32*(2**(i+1)), kernel_size=(3,3), padding=\"same\", activation=\"relu\")(x)\n",
        "        x = MaxPool2D(pool_size=(2,2), strides=(2,2))(x)\n",
        "        x = Dropout(0.3)(x)\n",
        "\n",
        "    flatten_output = Flatten(name=\"flatten\")(x) #Flatten layer (gives us embeddings)\n",
        "\n",
        "    dense_output = Dense(units=512, activation=\"relu\")(flatten_output)\n",
        "    dense_output = Dropout(0.4)(dense_output)\n",
        "    output = Dense(units=10, activation=\"softmax\")(dense_output)\n",
        "\n",
        "    model = Model(inputs=inputs, outputs=output)\n",
        "    return model\n",
        "\n",
        "\n",
        "def get_embeddings(model, x_test, x_train, y_train):\n",
        "\n",
        "  model.compile(loss=tf.keras.losses.sparse_categorical_crossentropy,\n",
        "                  optimizer=tf.keras.optimizers.Adam(),\n",
        "                  metrics=['accuracy'])\n",
        "  #Early stopping by monitoring accuracy\n",
        "  early_stopping = EarlyStopping(monitor='accuracy', patience=5, restore_best_weights=True)\n",
        "  model.fit(x_train, y_train,\n",
        "                      epochs=30,\n",
        "                      callbacks=[early_stopping],\n",
        "                      verbose=1)\n",
        "  flatten_model = Model(inputs=model.input, outputs= model.get_layer('flatten').output) #Geetting the flattened embeddings\n",
        "  x_train_embeddings = flatten_model.predict(x_train)\n",
        "  x_test_embeddings = flatten_model.predict(x_test)\n",
        "\n",
        "  print(x_train_embeddings.shape)\n",
        "  print(x_test_embeddings.shape)\n",
        "\n",
        "  return x_train_embeddings, x_test_embeddings\n",
        "\n",
        "#Dimensional reduction while maintaining 95% variance\n",
        "def get_pca_embeddings(x_train_embeddings, x_test_embeddings, explained_variance=0.95):\n",
        "\n",
        "  #Scaling of data\n",
        "  scaler = StandardScaler()\n",
        "  x_train_scaled = scaler.fit_transform(x_train_embeddings)\n",
        "  x_test_scaled = scaler.transform(x_test_embeddings)\n",
        "\n",
        "  pca = PCA(n_components=explained_variance)\n",
        "  x_train_pca = pca.fit_transform(x_train_scaled)\n",
        "  x_test_pca = pca.transform(x_test_scaled)\n",
        "\n",
        "  return x_train_pca, x_test_pca\n",
        "\n",
        "def label_encode(y_train, y_test):\n",
        "\n",
        "  #Encoding the target variables because the SVC requires numerical inputs\n",
        "  label_encoder = LabelEncoder()\n",
        "  y_train_encoded = label_encoder.fit_transform(y_train)\n",
        "  y_test_encoded = label_encoder.transform(y_test)\n",
        "\n",
        "  return y_train_encoded, y_test_encoded\n",
        "\n",
        "def optimize_hyperparameters(x_train_pca, y_train_encoded, n_trials):\n",
        "\n",
        "  #Objective function optimizing F1 score and finding best hyperparameters\n",
        "  def objective(trial):\n",
        "      C = trial.suggest_loguniform('C', 1e-4, 1e2)\n",
        "      kernel = trial.suggest_categorical('kernel', ['linear', 'rbf', 'sigmoid', 'poly'])\n",
        "      gamma = 'scale'\n",
        "\n",
        "      if kernel in ['rbf', 'sigmoid', 'poly']:\n",
        "          gamma = trial.suggest_loguniform('gamma', 1e-4, 1e1)\n",
        "\n",
        "      if kernel == 'poly':\n",
        "          degree = trial.suggest_int('degree', 2, 5)\n",
        "      else:\n",
        "          degree = 3\n",
        "\n",
        "      svc = SVC(C=C, kernel=kernel, gamma=gamma, degree=degree, max_iter=50000, random_state=42) #Max ierations are 50000 to force trials to converge if they dont due to runtime\n",
        "\n",
        "      x_training, x_val, y_training, y_val = train_test_split(x_train_pca, y_train_encoded, test_size=0.15, random_state=42)\n",
        "\n",
        "      svc.fit(x_training, y_training)\n",
        "      y_pred_val = svc.predict(x_val)\n",
        "      y_pred_train = svc.predict(x_training)\n",
        "\n",
        "      f1 = f1_score(y_val, y_pred_val, average='macro')\n",
        "      accuracy_val = accuracy_score(y_val, y_pred_val)\n",
        "      accuracy_train = accuracy_score(y_training, y_pred_train)\n",
        "\n",
        "      #Heavy penalization for overfitting\n",
        "      if accuracy_train - accuracy_val > 0.05:\n",
        "        return -1000\n",
        "\n",
        "      return f1\n",
        "\n",
        "  study = optuna.create_study(direction=\"maximize\")\n",
        "  study.optimize(lambda trial:objective(trial), n_trials=n_trials, n_jobs=-1)\n",
        "\n",
        "  best_params = study.best_params\n",
        "  best_model = SVC(**best_params, max_iter=50000, random_state=42)\n",
        "  best_model.fit(x_train_pca, y_train_encoded)\n",
        "\n",
        "  return best_model\n",
        "\n",
        "#Evaluation of model\n",
        "def evaluate_best_model(best_model, x_test_pca, y_test_encoded, x_train_pca, y_train_encoded):\n",
        "\n",
        "  y_pred_test = best_model.predict(x_test_pca)\n",
        "  y_pred_train = best_model.predict(x_train_pca)\n",
        "  accuracy_test = accuracy_score(y_test_encoded, y_pred_test)\n",
        "  accuracy_train = accuracy_score(y_train_encoded, y_pred_train)\n",
        "  precision = precision_score(y_test_encoded, y_pred_test, average='macro')\n",
        "  recall = recall_score(y_test_encoded, y_pred_test, average='macro')\n",
        "\n",
        "  return precision, recall, accuracy_test, accuracy_train, y_pred_test, y_pred_train\n",
        "\n",
        "#Fit summary\n",
        "def fit_summary(best_model, y_pred_test, accuracy, accuracy_train, y_test):\n",
        "\n",
        "  # Overfitting condition : train accuracy - test accuracy < 5%\n",
        "  if accuracy_train - accuracy > 0.05:\n",
        "    fitting =  \"Overfitting\"\n",
        "  else:\n",
        "    fitting = \"Acceptable performance\"\n",
        "\n",
        "  cm = confusion_matrix(y_test, y_pred_test) #confusion matrix plotting\n",
        "  disp = ConfusionMatrixDisplay(confusion_matrix=cm)\n",
        "  disp.plot()\n",
        "  plt.show()\n",
        "\n",
        "  return f\"The model's fitting performance is: {fitting}\"\n",
        "\n",
        "def comprehensive_fashion_mnist_model_svc(random_seed):\n",
        "\n",
        "  tf.debugging.set_log_device_placement(False)\n",
        "\n",
        "  # Load the Fashion MNIST dataset\n",
        "  (x_train, y_train), (x_test, y_test) = keras.datasets.fashion_mnist.load_data()\n",
        "\n",
        "  x_train, _ , y_train, _ = train_test_split(x_train, y_train, test_size=0.833, stratify=y_train, random_state=42) #Reducing training set to 10000 samples\n",
        "\n",
        "  x_train, x_test = preprocessing(x_train, x_test) #Preprocessing images\n",
        "\n",
        "  model = define_model(2) #Model definition\n",
        "\n",
        "  x_train_embeddings, x_test_embeddings = get_embeddings(model, x_test, x_train, y_train) #Getting embeddings\n",
        "\n",
        "  x_train_pca, x_test_pca = get_pca_embeddings(x_train_embeddings, x_test_embeddings, 0.95) #PCA\n",
        "\n",
        "  y_train_encoded, y_test_encoded = label_encode(y_train, y_test) #Label encoding target variable\n",
        "\n",
        "  best_model = optimize_hyperparameters(x_train_pca, y_train_encoded, 100) #Best model after HPO\n",
        "\n",
        "  precision, recall, accuracy, accuracy_train, y_pred_test, y_pred_train = evaluate_best_model(best_model, x_test_pca, y_test_encoded, x_train_pca, y_train_encoded) #Evaluation metrics\n",
        "\n",
        "  print(f\"Train accuracy: {accuracy_train:.4f}\")\n",
        "\n",
        "  fit_analysis = fit_summary(best_model, y_pred_test, accuracy, accuracy_train, y_test)\n",
        "\n",
        "  return best_model, accuracy, precision, recall, fit_analysis\n",
        "\n",
        "best_model, acc, prec, rec, fit_analysis = comprehensive_fashion_mnist_model_svc(random_seed=42)\n",
        "print(f\"Test Accuracy: {acc:.4f}\")\n",
        "print(f\"Precision: {prec:.4f}\")\n",
        "print(f\"Recall: {rec:.4f}\")\n",
        "print(f\"Fit analysis:{fit_analysis}\")"
      ],
      "metadata": {
        "id": "1Q02-4aaZehA",
        "colab": {
          "base_uri": "https://localhost:8080/",
          "height": 1000
        },
        "outputId": "21d3f254-035e-46d9-df7c-a658199772f3"
      },
      "execution_count": null,
      "outputs": [
        {
          "output_type": "stream",
          "name": "stdout",
          "text": [
            "Epoch 1/30\n",
            "\u001b[1m314/314\u001b[0m \u001b[32m━━━━━━━━━━━━━━━━━━━━\u001b[0m\u001b[37m\u001b[0m \u001b[1m11s\u001b[0m 15ms/step - accuracy: 0.5344 - loss: 1.2629\n",
            "Epoch 2/30\n",
            "\u001b[1m314/314\u001b[0m \u001b[32m━━━━━━━━━━━━━━━━━━━━\u001b[0m\u001b[37m\u001b[0m \u001b[1m1s\u001b[0m 2ms/step - accuracy: 0.8005 - loss: 0.5411\n",
            "Epoch 3/30\n",
            "\u001b[1m314/314\u001b[0m \u001b[32m━━━━━━━━━━━━━━━━━━━━\u001b[0m\u001b[37m\u001b[0m \u001b[1m1s\u001b[0m 2ms/step - accuracy: 0.8258 - loss: 0.4587\n",
            "Epoch 4/30\n",
            "\u001b[1m314/314\u001b[0m \u001b[32m━━━━━━━━━━━━━━━━━━━━\u001b[0m\u001b[37m\u001b[0m \u001b[1m1s\u001b[0m 2ms/step - accuracy: 0.8537 - loss: 0.3862\n",
            "Epoch 5/30\n",
            "\u001b[1m314/314\u001b[0m \u001b[32m━━━━━━━━━━━━━━━━━━━━\u001b[0m\u001b[37m\u001b[0m \u001b[1m1s\u001b[0m 2ms/step - accuracy: 0.8640 - loss: 0.3691\n",
            "Epoch 6/30\n",
            "\u001b[1m314/314\u001b[0m \u001b[32m━━━━━━━━━━━━━━━━━━━━\u001b[0m\u001b[37m\u001b[0m \u001b[1m1s\u001b[0m 2ms/step - accuracy: 0.8786 - loss: 0.3218\n",
            "Epoch 7/30\n",
            "\u001b[1m314/314\u001b[0m \u001b[32m━━━━━━━━━━━━━━━━━━━━\u001b[0m\u001b[37m\u001b[0m \u001b[1m1s\u001b[0m 2ms/step - accuracy: 0.8769 - loss: 0.3258\n",
            "Epoch 8/30\n",
            "\u001b[1m314/314\u001b[0m \u001b[32m━━━━━━━━━━━━━━━━━━━━\u001b[0m\u001b[37m\u001b[0m \u001b[1m1s\u001b[0m 2ms/step - accuracy: 0.8822 - loss: 0.2985\n",
            "Epoch 9/30\n",
            "\u001b[1m314/314\u001b[0m \u001b[32m━━━━━━━━━━━━━━━━━━━━\u001b[0m\u001b[37m\u001b[0m \u001b[1m1s\u001b[0m 2ms/step - accuracy: 0.8973 - loss: 0.2867\n",
            "Epoch 10/30\n",
            "\u001b[1m314/314\u001b[0m \u001b[32m━━━━━━━━━━━━━━━━━━━━\u001b[0m\u001b[37m\u001b[0m \u001b[1m1s\u001b[0m 2ms/step - accuracy: 0.8960 - loss: 0.2749\n",
            "Epoch 11/30\n",
            "\u001b[1m314/314\u001b[0m \u001b[32m━━━━━━━━━━━━━━━━━━━━\u001b[0m\u001b[37m\u001b[0m \u001b[1m1s\u001b[0m 2ms/step - accuracy: 0.9030 - loss: 0.2527\n",
            "Epoch 12/30\n",
            "\u001b[1m314/314\u001b[0m \u001b[32m━━━━━━━━━━━━━━━━━━━━\u001b[0m\u001b[37m\u001b[0m \u001b[1m1s\u001b[0m 2ms/step - accuracy: 0.9035 - loss: 0.2463\n",
            "Epoch 13/30\n",
            "\u001b[1m314/314\u001b[0m \u001b[32m━━━━━━━━━━━━━━━━━━━━\u001b[0m\u001b[37m\u001b[0m \u001b[1m1s\u001b[0m 2ms/step - accuracy: 0.9135 - loss: 0.2313\n",
            "Epoch 14/30\n",
            "\u001b[1m314/314\u001b[0m \u001b[32m━━━━━━━━━━━━━━━━━━━━\u001b[0m\u001b[37m\u001b[0m \u001b[1m1s\u001b[0m 2ms/step - accuracy: 0.9145 - loss: 0.2188\n",
            "Epoch 15/30\n",
            "\u001b[1m314/314\u001b[0m \u001b[32m━━━━━━━━━━━━━━━━━━━━\u001b[0m\u001b[37m\u001b[0m \u001b[1m1s\u001b[0m 2ms/step - accuracy: 0.9155 - loss: 0.2135\n",
            "Epoch 16/30\n",
            "\u001b[1m314/314\u001b[0m \u001b[32m━━━━━━━━━━━━━━━━━━━━\u001b[0m\u001b[37m\u001b[0m \u001b[1m1s\u001b[0m 2ms/step - accuracy: 0.9247 - loss: 0.2045\n",
            "Epoch 17/30\n",
            "\u001b[1m314/314\u001b[0m \u001b[32m━━━━━━━━━━━━━━━━━━━━\u001b[0m\u001b[37m\u001b[0m \u001b[1m1s\u001b[0m 2ms/step - accuracy: 0.9231 - loss: 0.2125\n",
            "Epoch 18/30\n",
            "\u001b[1m314/314\u001b[0m \u001b[32m━━━━━━━━━━━━━━━━━━━━\u001b[0m\u001b[37m\u001b[0m \u001b[1m1s\u001b[0m 2ms/step - accuracy: 0.9308 - loss: 0.1863\n",
            "Epoch 19/30\n",
            "\u001b[1m314/314\u001b[0m \u001b[32m━━━━━━━━━━━━━━━━━━━━\u001b[0m\u001b[37m\u001b[0m \u001b[1m1s\u001b[0m 2ms/step - accuracy: 0.9189 - loss: 0.2020\n",
            "Epoch 20/30\n",
            "\u001b[1m314/314\u001b[0m \u001b[32m━━━━━━━━━━━━━━━━━━━━\u001b[0m\u001b[37m\u001b[0m \u001b[1m1s\u001b[0m 2ms/step - accuracy: 0.9252 - loss: 0.1900\n",
            "Epoch 21/30\n",
            "\u001b[1m314/314\u001b[0m \u001b[32m━━━━━━━━━━━━━━━━━━━━\u001b[0m\u001b[37m\u001b[0m \u001b[1m1s\u001b[0m 2ms/step - accuracy: 0.9298 - loss: 0.1922\n",
            "Epoch 22/30\n",
            "\u001b[1m314/314\u001b[0m \u001b[32m━━━━━━━━━━━━━━━━━━━━\u001b[0m\u001b[37m\u001b[0m \u001b[1m1s\u001b[0m 2ms/step - accuracy: 0.9407 - loss: 0.1562\n",
            "Epoch 23/30\n",
            "\u001b[1m314/314\u001b[0m \u001b[32m━━━━━━━━━━━━━━━━━━━━\u001b[0m\u001b[37m\u001b[0m \u001b[1m1s\u001b[0m 2ms/step - accuracy: 0.9456 - loss: 0.1417\n",
            "Epoch 24/30\n",
            "\u001b[1m314/314\u001b[0m \u001b[32m━━━━━━━━━━━━━━━━━━━━\u001b[0m\u001b[37m\u001b[0m \u001b[1m1s\u001b[0m 2ms/step - accuracy: 0.9370 - loss: 0.1714\n",
            "Epoch 25/30\n",
            "\u001b[1m314/314\u001b[0m \u001b[32m━━━━━━━━━━━━━━━━━━━━\u001b[0m\u001b[37m\u001b[0m \u001b[1m1s\u001b[0m 2ms/step - accuracy: 0.9417 - loss: 0.1495\n",
            "Epoch 26/30\n",
            "\u001b[1m314/314\u001b[0m \u001b[32m━━━━━━━━━━━━━━━━━━━━\u001b[0m\u001b[37m\u001b[0m \u001b[1m1s\u001b[0m 2ms/step - accuracy: 0.9471 - loss: 0.1358\n",
            "Epoch 27/30\n",
            "\u001b[1m314/314\u001b[0m \u001b[32m━━━━━━━━━━━━━━━━━━━━\u001b[0m\u001b[37m\u001b[0m \u001b[1m1s\u001b[0m 2ms/step - accuracy: 0.9443 - loss: 0.1516\n",
            "Epoch 28/30\n",
            "\u001b[1m314/314\u001b[0m \u001b[32m━━━━━━━━━━━━━━━━━━━━\u001b[0m\u001b[37m\u001b[0m \u001b[1m1s\u001b[0m 2ms/step - accuracy: 0.9464 - loss: 0.1336\n",
            "Epoch 29/30\n",
            "\u001b[1m314/314\u001b[0m \u001b[32m━━━━━━━━━━━━━━━━━━━━\u001b[0m\u001b[37m\u001b[0m \u001b[1m1s\u001b[0m 2ms/step - accuracy: 0.9556 - loss: 0.1196\n",
            "Epoch 30/30\n",
            "\u001b[1m314/314\u001b[0m \u001b[32m━━━━━━━━━━━━━━━━━━━━\u001b[0m\u001b[37m\u001b[0m \u001b[1m1s\u001b[0m 2ms/step - accuracy: 0.9409 - loss: 0.1642\n",
            "\u001b[1m314/314\u001b[0m \u001b[32m━━━━━━━━━━━━━━━━━━━━\u001b[0m\u001b[37m\u001b[0m \u001b[1m1s\u001b[0m 3ms/step\n",
            "\u001b[1m313/313\u001b[0m \u001b[32m━━━━━━━━━━━━━━━━━━━━\u001b[0m\u001b[37m\u001b[0m \u001b[1m1s\u001b[0m 2ms/step\n",
            "(10020, 1152)\n",
            "(10000, 1152)\n"
          ]
        },
        {
          "output_type": "stream",
          "name": "stderr",
          "text": [
            "[I 2024-09-07 11:48:37,051] A new study created in memory with name: no-name-b0e7f4d7-9421-4afe-b62a-a86123e2d06d\n",
            "<ipython-input-1-f6a047c4242d>:97: FutureWarning: suggest_loguniform has been deprecated in v3.0.0. This feature will be removed in v6.0.0. See https://github.com/optuna/optuna/releases/tag/v3.0.0. Use suggest_float(..., log=True) instead.\n",
            "  C = trial.suggest_loguniform('C', 1e-4, 1e2)\n",
            "<ipython-input-1-f6a047c4242d>:102: FutureWarning: suggest_loguniform has been deprecated in v3.0.0. This feature will be removed in v6.0.0. See https://github.com/optuna/optuna/releases/tag/v3.0.0. Use suggest_float(..., log=True) instead.\n",
            "  gamma = trial.suggest_loguniform('gamma', 1e-4, 1e1)\n",
            "<ipython-input-1-f6a047c4242d>:97: FutureWarning: suggest_loguniform has been deprecated in v3.0.0. This feature will be removed in v6.0.0. See https://github.com/optuna/optuna/releases/tag/v3.0.0. Use suggest_float(..., log=True) instead.\n",
            "  C = trial.suggest_loguniform('C', 1e-4, 1e2)\n",
            "[I 2024-09-07 11:48:49,228] Trial 3 finished with value: 0.9307865393775236 and parameters: {'C': 7.2485584318740175, 'kernel': 'sigmoid', 'gamma': 0.0020069499867549317}. Best is trial 3 with value: 0.9307865393775236.\n",
            "<ipython-input-1-f6a047c4242d>:97: FutureWarning: suggest_loguniform has been deprecated in v3.0.0. This feature will be removed in v6.0.0. See https://github.com/optuna/optuna/releases/tag/v3.0.0. Use suggest_float(..., log=True) instead.\n",
            "  C = trial.suggest_loguniform('C', 1e-4, 1e2)\n",
            "<ipython-input-1-f6a047c4242d>:102: FutureWarning: suggest_loguniform has been deprecated in v3.0.0. This feature will be removed in v6.0.0. See https://github.com/optuna/optuna/releases/tag/v3.0.0. Use suggest_float(..., log=True) instead.\n",
            "  gamma = trial.suggest_loguniform('gamma', 1e-4, 1e1)\n",
            "[I 2024-09-07 11:48:56,515] Trial 11 finished with value: 0.9527988087061777 and parameters: {'C': 0.013171419055477165, 'kernel': 'linear'}. Best is trial 11 with value: 0.9527988087061777.\n",
            "<ipython-input-1-f6a047c4242d>:97: FutureWarning: suggest_loguniform has been deprecated in v3.0.0. This feature will be removed in v6.0.0. See https://github.com/optuna/optuna/releases/tag/v3.0.0. Use suggest_float(..., log=True) instead.\n",
            "  C = trial.suggest_loguniform('C', 1e-4, 1e2)\n",
            "<ipython-input-1-f6a047c4242d>:102: FutureWarning: suggest_loguniform has been deprecated in v3.0.0. This feature will be removed in v6.0.0. See https://github.com/optuna/optuna/releases/tag/v3.0.0. Use suggest_float(..., log=True) instead.\n",
            "  gamma = trial.suggest_loguniform('gamma', 1e-4, 1e1)\n",
            "[I 2024-09-07 11:48:56,647] Trial 1 finished with value: 0.9510752650840757 and parameters: {'C': 11.696773545197223, 'kernel': 'linear'}. Best is trial 11 with value: 0.9527988087061777.\n",
            "<ipython-input-1-f6a047c4242d>:97: FutureWarning: suggest_loguniform has been deprecated in v3.0.0. This feature will be removed in v6.0.0. See https://github.com/optuna/optuna/releases/tag/v3.0.0. Use suggest_float(..., log=True) instead.\n",
            "  C = trial.suggest_loguniform('C', 1e-4, 1e2)\n",
            "<ipython-input-1-f6a047c4242d>:102: FutureWarning: suggest_loguniform has been deprecated in v3.0.0. This feature will be removed in v6.0.0. See https://github.com/optuna/optuna/releases/tag/v3.0.0. Use suggest_float(..., log=True) instead.\n",
            "  gamma = trial.suggest_loguniform('gamma', 1e-4, 1e1)\n",
            "[I 2024-09-07 11:48:58,290] Trial 8 finished with value: 0.9510752650840757 and parameters: {'C': 4.900971387939299, 'kernel': 'linear'}. Best is trial 11 with value: 0.9527988087061777.\n",
            "<ipython-input-1-f6a047c4242d>:97: FutureWarning: suggest_loguniform has been deprecated in v3.0.0. This feature will be removed in v6.0.0. See https://github.com/optuna/optuna/releases/tag/v3.0.0. Use suggest_float(..., log=True) instead.\n",
            "  C = trial.suggest_loguniform('C', 1e-4, 1e2)\n",
            "<ipython-input-1-f6a047c4242d>:102: FutureWarning: suggest_loguniform has been deprecated in v3.0.0. This feature will be removed in v6.0.0. See https://github.com/optuna/optuna/releases/tag/v3.0.0. Use suggest_float(..., log=True) instead.\n",
            "  gamma = trial.suggest_loguniform('gamma', 1e-4, 1e1)\n",
            "[I 2024-09-07 11:49:16,518] Trial 10 finished with value: 0.9540005433769625 and parameters: {'C': 97.3778750315148, 'kernel': 'rbf', 'gamma': 0.00020092847536961673}. Best is trial 10 with value: 0.9540005433769625.\n",
            "<ipython-input-1-f6a047c4242d>:97: FutureWarning: suggest_loguniform has been deprecated in v3.0.0. This feature will be removed in v6.0.0. See https://github.com/optuna/optuna/releases/tag/v3.0.0. Use suggest_float(..., log=True) instead.\n",
            "  C = trial.suggest_loguniform('C', 1e-4, 1e2)\n",
            "<ipython-input-1-f6a047c4242d>:102: FutureWarning: suggest_loguniform has been deprecated in v3.0.0. This feature will be removed in v6.0.0. See https://github.com/optuna/optuna/releases/tag/v3.0.0. Use suggest_float(..., log=True) instead.\n",
            "  gamma = trial.suggest_loguniform('gamma', 1e-4, 1e1)\n",
            "[I 2024-09-07 11:49:30,319] Trial 0 finished with value: 0.6823252536437885 and parameters: {'C': 1.1783462084862493, 'kernel': 'sigmoid', 'gamma': 0.0336561479617254}. Best is trial 10 with value: 0.9540005433769625.\n",
            "<ipython-input-1-f6a047c4242d>:97: FutureWarning: suggest_loguniform has been deprecated in v3.0.0. This feature will be removed in v6.0.0. See https://github.com/optuna/optuna/releases/tag/v3.0.0. Use suggest_float(..., log=True) instead.\n",
            "  C = trial.suggest_loguniform('C', 1e-4, 1e2)\n",
            "<ipython-input-1-f6a047c4242d>:102: FutureWarning: suggest_loguniform has been deprecated in v3.0.0. This feature will be removed in v6.0.0. See https://github.com/optuna/optuna/releases/tag/v3.0.0. Use suggest_float(..., log=True) instead.\n",
            "  gamma = trial.suggest_loguniform('gamma', 1e-4, 1e1)\n",
            "[I 2024-09-07 11:49:41,566] Trial 13 finished with value: 0.9555883482355021 and parameters: {'C': 0.09341455047585619, 'kernel': 'poly', 'gamma': 0.025994797122511605, 'degree': 2}. Best is trial 13 with value: 0.9555883482355021.\n",
            "<ipython-input-1-f6a047c4242d>:97: FutureWarning: suggest_loguniform has been deprecated in v3.0.0. This feature will be removed in v6.0.0. See https://github.com/optuna/optuna/releases/tag/v3.0.0. Use suggest_float(..., log=True) instead.\n",
            "  C = trial.suggest_loguniform('C', 1e-4, 1e2)\n",
            "<ipython-input-1-f6a047c4242d>:102: FutureWarning: suggest_loguniform has been deprecated in v3.0.0. This feature will be removed in v6.0.0. See https://github.com/optuna/optuna/releases/tag/v3.0.0. Use suggest_float(..., log=True) instead.\n",
            "  gamma = trial.suggest_loguniform('gamma', 1e-4, 1e1)\n",
            "[I 2024-09-07 11:49:42,381] Trial 9 finished with value: -1000.0 and parameters: {'C': 0.005404070937974106, 'kernel': 'poly', 'gamma': 6.178765564171433, 'degree': 4}. Best is trial 13 with value: 0.9555883482355021.\n",
            "<ipython-input-1-f6a047c4242d>:97: FutureWarning: suggest_loguniform has been deprecated in v3.0.0. This feature will be removed in v6.0.0. See https://github.com/optuna/optuna/releases/tag/v3.0.0. Use suggest_float(..., log=True) instead.\n",
            "  C = trial.suggest_loguniform('C', 1e-4, 1e2)\n",
            "<ipython-input-1-f6a047c4242d>:102: FutureWarning: suggest_loguniform has been deprecated in v3.0.0. This feature will be removed in v6.0.0. See https://github.com/optuna/optuna/releases/tag/v3.0.0. Use suggest_float(..., log=True) instead.\n",
            "  gamma = trial.suggest_loguniform('gamma', 1e-4, 1e1)\n",
            "[I 2024-09-07 11:50:13,161] Trial 17 finished with value: 0.9532827748384118 and parameters: {'C': 0.14550181748433946, 'kernel': 'sigmoid', 'gamma': 0.0017156829780415835}. Best is trial 13 with value: 0.9555883482355021.\n",
            "<ipython-input-1-f6a047c4242d>:97: FutureWarning: suggest_loguniform has been deprecated in v3.0.0. This feature will be removed in v6.0.0. See https://github.com/optuna/optuna/releases/tag/v3.0.0. Use suggest_float(..., log=True) instead.\n",
            "  C = trial.suggest_loguniform('C', 1e-4, 1e2)\n",
            "<ipython-input-1-f6a047c4242d>:102: FutureWarning: suggest_loguniform has been deprecated in v3.0.0. This feature will be removed in v6.0.0. See https://github.com/optuna/optuna/releases/tag/v3.0.0. Use suggest_float(..., log=True) instead.\n",
            "  gamma = trial.suggest_loguniform('gamma', 1e-4, 1e1)\n",
            "[I 2024-09-07 11:50:13,859] Trial 18 finished with value: 0.89594470294227 and parameters: {'C': 0.31901650135102516, 'kernel': 'sigmoid', 'gamma': 0.004142001215024798}. Best is trial 13 with value: 0.9555883482355021.\n",
            "<ipython-input-1-f6a047c4242d>:97: FutureWarning: suggest_loguniform has been deprecated in v3.0.0. This feature will be removed in v6.0.0. See https://github.com/optuna/optuna/releases/tag/v3.0.0. Use suggest_float(..., log=True) instead.\n",
            "  C = trial.suggest_loguniform('C', 1e-4, 1e2)\n",
            "<ipython-input-1-f6a047c4242d>:102: FutureWarning: suggest_loguniform has been deprecated in v3.0.0. This feature will be removed in v6.0.0. See https://github.com/optuna/optuna/releases/tag/v3.0.0. Use suggest_float(..., log=True) instead.\n",
            "  gamma = trial.suggest_loguniform('gamma', 1e-4, 1e1)\n",
            "[I 2024-09-07 11:50:56,916] Trial 21 finished with value: 0.9562670512675844 and parameters: {'C': 0.00010318726346459388, 'kernel': 'poly', 'gamma': 0.3767150377482602, 'degree': 2}. Best is trial 21 with value: 0.9562670512675844.\n",
            "<ipython-input-1-f6a047c4242d>:97: FutureWarning: suggest_loguniform has been deprecated in v3.0.0. This feature will be removed in v6.0.0. See https://github.com/optuna/optuna/releases/tag/v3.0.0. Use suggest_float(..., log=True) instead.\n",
            "  C = trial.suggest_loguniform('C', 1e-4, 1e2)\n",
            "<ipython-input-1-f6a047c4242d>:102: FutureWarning: suggest_loguniform has been deprecated in v3.0.0. This feature will be removed in v6.0.0. See https://github.com/optuna/optuna/releases/tag/v3.0.0. Use suggest_float(..., log=True) instead.\n",
            "  gamma = trial.suggest_loguniform('gamma', 1e-4, 1e1)\n",
            "[I 2024-09-07 11:51:31,880] Trial 22 finished with value: 0.9562670512675844 and parameters: {'C': 0.00012739250920009451, 'kernel': 'poly', 'gamma': 0.2738583270078905, 'degree': 2}. Best is trial 21 with value: 0.9562670512675844.\n",
            "<ipython-input-1-f6a047c4242d>:97: FutureWarning: suggest_loguniform has been deprecated in v3.0.0. This feature will be removed in v6.0.0. See https://github.com/optuna/optuna/releases/tag/v3.0.0. Use suggest_float(..., log=True) instead.\n",
            "  C = trial.suggest_loguniform('C', 1e-4, 1e2)\n",
            "<ipython-input-1-f6a047c4242d>:102: FutureWarning: suggest_loguniform has been deprecated in v3.0.0. This feature will be removed in v6.0.0. See https://github.com/optuna/optuna/releases/tag/v3.0.0. Use suggest_float(..., log=True) instead.\n",
            "  gamma = trial.suggest_loguniform('gamma', 1e-4, 1e1)\n",
            "[I 2024-09-07 11:51:34,450] Trial 20 finished with value: 0.954270329001106 and parameters: {'C': 10.752141877093742, 'kernel': 'rbf', 'gamma': 0.0015356159209693545}. Best is trial 21 with value: 0.9562670512675844.\n",
            "<ipython-input-1-f6a047c4242d>:97: FutureWarning: suggest_loguniform has been deprecated in v3.0.0. This feature will be removed in v6.0.0. See https://github.com/optuna/optuna/releases/tag/v3.0.0. Use suggest_float(..., log=True) instead.\n",
            "  C = trial.suggest_loguniform('C', 1e-4, 1e2)\n",
            "<ipython-input-1-f6a047c4242d>:102: FutureWarning: suggest_loguniform has been deprecated in v3.0.0. This feature will be removed in v6.0.0. See https://github.com/optuna/optuna/releases/tag/v3.0.0. Use suggest_float(..., log=True) instead.\n",
            "  gamma = trial.suggest_loguniform('gamma', 1e-4, 1e1)\n",
            "[I 2024-09-07 11:51:40,607] Trial 12 finished with value: 0.11913955973981846 and parameters: {'C': 0.0007267099358040284, 'kernel': 'poly', 'gamma': 0.0016682981512493192, 'degree': 5}. Best is trial 21 with value: 0.9562670512675844.\n",
            "<ipython-input-1-f6a047c4242d>:97: FutureWarning: suggest_loguniform has been deprecated in v3.0.0. This feature will be removed in v6.0.0. See https://github.com/optuna/optuna/releases/tag/v3.0.0. Use suggest_float(..., log=True) instead.\n",
            "  C = trial.suggest_loguniform('C', 1e-4, 1e2)\n",
            "<ipython-input-1-f6a047c4242d>:102: FutureWarning: suggest_loguniform has been deprecated in v3.0.0. This feature will be removed in v6.0.0. See https://github.com/optuna/optuna/releases/tag/v3.0.0. Use suggest_float(..., log=True) instead.\n",
            "  gamma = trial.suggest_loguniform('gamma', 1e-4, 1e1)\n",
            "[I 2024-09-07 11:51:42,437] Trial 4 finished with value: 0.01478743068391867 and parameters: {'C': 0.02030809220817893, 'kernel': 'poly', 'gamma': 0.00029834101580923823, 'degree': 5}. Best is trial 21 with value: 0.9562670512675844.\n",
            "<ipython-input-1-f6a047c4242d>:97: FutureWarning: suggest_loguniform has been deprecated in v3.0.0. This feature will be removed in v6.0.0. See https://github.com/optuna/optuna/releases/tag/v3.0.0. Use suggest_float(..., log=True) instead.\n",
            "  C = trial.suggest_loguniform('C', 1e-4, 1e2)\n",
            "<ipython-input-1-f6a047c4242d>:102: FutureWarning: suggest_loguniform has been deprecated in v3.0.0. This feature will be removed in v6.0.0. See https://github.com/optuna/optuna/releases/tag/v3.0.0. Use suggest_float(..., log=True) instead.\n",
            "  gamma = trial.suggest_loguniform('gamma', 1e-4, 1e1)\n",
            "[I 2024-09-07 11:51:45,174] Trial 19 finished with value: 0.6633499972434278 and parameters: {'C': 0.0060809800040134, 'kernel': 'sigmoid', 'gamma': 0.06566281245088519}. Best is trial 21 with value: 0.9562670512675844.\n",
            "<ipython-input-1-f6a047c4242d>:97: FutureWarning: suggest_loguniform has been deprecated in v3.0.0. This feature will be removed in v6.0.0. See https://github.com/optuna/optuna/releases/tag/v3.0.0. Use suggest_float(..., log=True) instead.\n",
            "  C = trial.suggest_loguniform('C', 1e-4, 1e2)\n",
            "<ipython-input-1-f6a047c4242d>:102: FutureWarning: suggest_loguniform has been deprecated in v3.0.0. This feature will be removed in v6.0.0. See https://github.com/optuna/optuna/releases/tag/v3.0.0. Use suggest_float(..., log=True) instead.\n",
            "  gamma = trial.suggest_loguniform('gamma', 1e-4, 1e1)\n",
            "[I 2024-09-07 11:51:45,718] Trial 16 finished with value: 0.8911145053364011 and parameters: {'C': 0.002889665298017827, 'kernel': 'sigmoid', 'gamma': 0.005238858228477687}. Best is trial 21 with value: 0.9562670512675844.\n",
            "<ipython-input-1-f6a047c4242d>:97: FutureWarning: suggest_loguniform has been deprecated in v3.0.0. This feature will be removed in v6.0.0. See https://github.com/optuna/optuna/releases/tag/v3.0.0. Use suggest_float(..., log=True) instead.\n",
            "  C = trial.suggest_loguniform('C', 1e-4, 1e2)\n",
            "<ipython-input-1-f6a047c4242d>:102: FutureWarning: suggest_loguniform has been deprecated in v3.0.0. This feature will be removed in v6.0.0. See https://github.com/optuna/optuna/releases/tag/v3.0.0. Use suggest_float(..., log=True) instead.\n",
            "  gamma = trial.suggest_loguniform('gamma', 1e-4, 1e1)\n",
            "[I 2024-09-07 11:51:50,338] Trial 7 finished with value: 0.01478743068391867 and parameters: {'C': 0.0004357438437396836, 'kernel': 'sigmoid', 'gamma': 0.00016007774828913002}. Best is trial 21 with value: 0.9562670512675844.\n",
            "<ipython-input-1-f6a047c4242d>:97: FutureWarning: suggest_loguniform has been deprecated in v3.0.0. This feature will be removed in v6.0.0. See https://github.com/optuna/optuna/releases/tag/v3.0.0. Use suggest_float(..., log=True) instead.\n",
            "  C = trial.suggest_loguniform('C', 1e-4, 1e2)\n",
            "<ipython-input-1-f6a047c4242d>:102: FutureWarning: suggest_loguniform has been deprecated in v3.0.0. This feature will be removed in v6.0.0. See https://github.com/optuna/optuna/releases/tag/v3.0.0. Use suggest_float(..., log=True) instead.\n",
            "  gamma = trial.suggest_loguniform('gamma', 1e-4, 1e1)\n",
            "[I 2024-09-07 11:52:10,179] Trial 23 finished with value: 0.9555883482355021 and parameters: {'C': 0.00015082347903082487, 'kernel': 'poly', 'gamma': 1.1615771961356012, 'degree': 2}. Best is trial 21 with value: 0.9562670512675844.\n",
            "<ipython-input-1-f6a047c4242d>:97: FutureWarning: suggest_loguniform has been deprecated in v3.0.0. This feature will be removed in v6.0.0. See https://github.com/optuna/optuna/releases/tag/v3.0.0. Use suggest_float(..., log=True) instead.\n",
            "  C = trial.suggest_loguniform('C', 1e-4, 1e2)\n",
            "<ipython-input-1-f6a047c4242d>:102: FutureWarning: suggest_loguniform has been deprecated in v3.0.0. This feature will be removed in v6.0.0. See https://github.com/optuna/optuna/releases/tag/v3.0.0. Use suggest_float(..., log=True) instead.\n",
            "  gamma = trial.suggest_loguniform('gamma', 1e-4, 1e1)\n",
            "[I 2024-09-07 11:52:15,078] Trial 24 finished with value: 0.9555883482355021 and parameters: {'C': 0.00011599036525343033, 'kernel': 'poly', 'gamma': 1.146902443309697, 'degree': 2}. Best is trial 21 with value: 0.9562670512675844.\n",
            "<ipython-input-1-f6a047c4242d>:97: FutureWarning: suggest_loguniform has been deprecated in v3.0.0. This feature will be removed in v6.0.0. See https://github.com/optuna/optuna/releases/tag/v3.0.0. Use suggest_float(..., log=True) instead.\n",
            "  C = trial.suggest_loguniform('C', 1e-4, 1e2)\n",
            "<ipython-input-1-f6a047c4242d>:102: FutureWarning: suggest_loguniform has been deprecated in v3.0.0. This feature will be removed in v6.0.0. See https://github.com/optuna/optuna/releases/tag/v3.0.0. Use suggest_float(..., log=True) instead.\n",
            "  gamma = trial.suggest_loguniform('gamma', 1e-4, 1e1)\n",
            "[I 2024-09-07 11:52:20,087] Trial 27 finished with value: 0.9555883482355021 and parameters: {'C': 0.0001904009253641106, 'kernel': 'poly', 'gamma': 0.6656569274868103, 'degree': 2}. Best is trial 21 with value: 0.9562670512675844.\n",
            "<ipython-input-1-f6a047c4242d>:97: FutureWarning: suggest_loguniform has been deprecated in v3.0.0. This feature will be removed in v6.0.0. See https://github.com/optuna/optuna/releases/tag/v3.0.0. Use suggest_float(..., log=True) instead.\n",
            "  C = trial.suggest_loguniform('C', 1e-4, 1e2)\n",
            "<ipython-input-1-f6a047c4242d>:102: FutureWarning: suggest_loguniform has been deprecated in v3.0.0. This feature will be removed in v6.0.0. See https://github.com/optuna/optuna/releases/tag/v3.0.0. Use suggest_float(..., log=True) instead.\n",
            "  gamma = trial.suggest_loguniform('gamma', 1e-4, 1e1)\n",
            "[I 2024-09-07 11:52:20,485] Trial 25 finished with value: 0.9555883482355021 and parameters: {'C': 0.00010200870746980116, 'kernel': 'poly', 'gamma': 1.0643879295214262, 'degree': 2}. Best is trial 21 with value: 0.9562670512675844.\n",
            "<ipython-input-1-f6a047c4242d>:97: FutureWarning: suggest_loguniform has been deprecated in v3.0.0. This feature will be removed in v6.0.0. See https://github.com/optuna/optuna/releases/tag/v3.0.0. Use suggest_float(..., log=True) instead.\n",
            "  C = trial.suggest_loguniform('C', 1e-4, 1e2)\n",
            "<ipython-input-1-f6a047c4242d>:102: FutureWarning: suggest_loguniform has been deprecated in v3.0.0. This feature will be removed in v6.0.0. See https://github.com/optuna/optuna/releases/tag/v3.0.0. Use suggest_float(..., log=True) instead.\n",
            "  gamma = trial.suggest_loguniform('gamma', 1e-4, 1e1)\n",
            "[I 2024-09-07 11:52:24,045] Trial 26 finished with value: 0.9555883482355021 and parameters: {'C': 0.00010510319506316488, 'kernel': 'poly', 'gamma': 0.993859823514349, 'degree': 2}. Best is trial 21 with value: 0.9562670512675844.\n",
            "<ipython-input-1-f6a047c4242d>:97: FutureWarning: suggest_loguniform has been deprecated in v3.0.0. This feature will be removed in v6.0.0. See https://github.com/optuna/optuna/releases/tag/v3.0.0. Use suggest_float(..., log=True) instead.\n",
            "  C = trial.suggest_loguniform('C', 1e-4, 1e2)\n",
            "<ipython-input-1-f6a047c4242d>:102: FutureWarning: suggest_loguniform has been deprecated in v3.0.0. This feature will be removed in v6.0.0. See https://github.com/optuna/optuna/releases/tag/v3.0.0. Use suggest_float(..., log=True) instead.\n",
            "  gamma = trial.suggest_loguniform('gamma', 1e-4, 1e1)\n",
            "[I 2024-09-07 11:52:25,011] Trial 28 finished with value: 0.9555883482355021 and parameters: {'C': 0.00010339259503933554, 'kernel': 'poly', 'gamma': 0.8431545079975094, 'degree': 2}. Best is trial 21 with value: 0.9562670512675844.\n",
            "<ipython-input-1-f6a047c4242d>:97: FutureWarning: suggest_loguniform has been deprecated in v3.0.0. This feature will be removed in v6.0.0. See https://github.com/optuna/optuna/releases/tag/v3.0.0. Use suggest_float(..., log=True) instead.\n",
            "  C = trial.suggest_loguniform('C', 1e-4, 1e2)\n",
            "<ipython-input-1-f6a047c4242d>:102: FutureWarning: suggest_loguniform has been deprecated in v3.0.0. This feature will be removed in v6.0.0. See https://github.com/optuna/optuna/releases/tag/v3.0.0. Use suggest_float(..., log=True) instead.\n",
            "  gamma = trial.suggest_loguniform('gamma', 1e-4, 1e1)\n",
            "[I 2024-09-07 11:52:30,519] Trial 29 finished with value: 0.9555883482355021 and parameters: {'C': 0.00010402336407094396, 'kernel': 'poly', 'gamma': 0.690358101828964, 'degree': 2}. Best is trial 21 with value: 0.9562670512675844.\n",
            "<ipython-input-1-f6a047c4242d>:97: FutureWarning: suggest_loguniform has been deprecated in v3.0.0. This feature will be removed in v6.0.0. See https://github.com/optuna/optuna/releases/tag/v3.0.0. Use suggest_float(..., log=True) instead.\n",
            "  C = trial.suggest_loguniform('C', 1e-4, 1e2)\n",
            "<ipython-input-1-f6a047c4242d>:102: FutureWarning: suggest_loguniform has been deprecated in v3.0.0. This feature will be removed in v6.0.0. See https://github.com/optuna/optuna/releases/tag/v3.0.0. Use suggest_float(..., log=True) instead.\n",
            "  gamma = trial.suggest_loguniform('gamma', 1e-4, 1e1)\n",
            "[I 2024-09-07 11:52:33,598] Trial 6 finished with value: 0.01478743068391867 and parameters: {'C': 0.002187208959763107, 'kernel': 'rbf', 'gamma': 0.28633830032531554}. Best is trial 21 with value: 0.9562670512675844.\n",
            "<ipython-input-1-f6a047c4242d>:97: FutureWarning: suggest_loguniform has been deprecated in v3.0.0. This feature will be removed in v6.0.0. See https://github.com/optuna/optuna/releases/tag/v3.0.0. Use suggest_float(..., log=True) instead.\n",
            "  C = trial.suggest_loguniform('C', 1e-4, 1e2)\n",
            "<ipython-input-1-f6a047c4242d>:102: FutureWarning: suggest_loguniform has been deprecated in v3.0.0. This feature will be removed in v6.0.0. See https://github.com/optuna/optuna/releases/tag/v3.0.0. Use suggest_float(..., log=True) instead.\n",
            "  gamma = trial.suggest_loguniform('gamma', 1e-4, 1e1)\n",
            "[I 2024-09-07 11:52:34,443] Trial 2 finished with value: 0.01478743068391867 and parameters: {'C': 0.0003865019804843689, 'kernel': 'rbf', 'gamma': 0.0011562064557959315}. Best is trial 21 with value: 0.9562670512675844.\n",
            "<ipython-input-1-f6a047c4242d>:97: FutureWarning: suggest_loguniform has been deprecated in v3.0.0. This feature will be removed in v6.0.0. See https://github.com/optuna/optuna/releases/tag/v3.0.0. Use suggest_float(..., log=True) instead.\n",
            "  C = trial.suggest_loguniform('C', 1e-4, 1e2)\n",
            "<ipython-input-1-f6a047c4242d>:102: FutureWarning: suggest_loguniform has been deprecated in v3.0.0. This feature will be removed in v6.0.0. See https://github.com/optuna/optuna/releases/tag/v3.0.0. Use suggest_float(..., log=True) instead.\n",
            "  gamma = trial.suggest_loguniform('gamma', 1e-4, 1e1)\n",
            "[I 2024-09-07 11:52:46,763] Trial 15 finished with value: 0.01478743068391867 and parameters: {'C': 0.0015517109660891663, 'kernel': 'rbf', 'gamma': 0.005583540804109996}. Best is trial 21 with value: 0.9562670512675844.\n",
            "<ipython-input-1-f6a047c4242d>:97: FutureWarning: suggest_loguniform has been deprecated in v3.0.0. This feature will be removed in v6.0.0. See https://github.com/optuna/optuna/releases/tag/v3.0.0. Use suggest_float(..., log=True) instead.\n",
            "  C = trial.suggest_loguniform('C', 1e-4, 1e2)\n",
            "<ipython-input-1-f6a047c4242d>:102: FutureWarning: suggest_loguniform has been deprecated in v3.0.0. This feature will be removed in v6.0.0. See https://github.com/optuna/optuna/releases/tag/v3.0.0. Use suggest_float(..., log=True) instead.\n",
            "  gamma = trial.suggest_loguniform('gamma', 1e-4, 1e1)\n",
            "[I 2024-09-07 11:52:47,728] Trial 14 finished with value: 0.01478743068391867 and parameters: {'C': 0.03723964131098831, 'kernel': 'rbf', 'gamma': 0.1276047475275478}. Best is trial 21 with value: 0.9562670512675844.\n",
            "<ipython-input-1-f6a047c4242d>:97: FutureWarning: suggest_loguniform has been deprecated in v3.0.0. This feature will be removed in v6.0.0. See https://github.com/optuna/optuna/releases/tag/v3.0.0. Use suggest_float(..., log=True) instead.\n",
            "  C = trial.suggest_loguniform('C', 1e-4, 1e2)\n",
            "<ipython-input-1-f6a047c4242d>:102: FutureWarning: suggest_loguniform has been deprecated in v3.0.0. This feature will be removed in v6.0.0. See https://github.com/optuna/optuna/releases/tag/v3.0.0. Use suggest_float(..., log=True) instead.\n",
            "  gamma = trial.suggest_loguniform('gamma', 1e-4, 1e1)\n",
            "[I 2024-09-07 11:52:48,715] Trial 5 finished with value: 0.01478743068391867 and parameters: {'C': 0.01803054245262983, 'kernel': 'rbf', 'gamma': 0.36135284280514657}. Best is trial 21 with value: 0.9562670512675844.\n",
            "<ipython-input-1-f6a047c4242d>:97: FutureWarning: suggest_loguniform has been deprecated in v3.0.0. This feature will be removed in v6.0.0. See https://github.com/optuna/optuna/releases/tag/v3.0.0. Use suggest_float(..., log=True) instead.\n",
            "  C = trial.suggest_loguniform('C', 1e-4, 1e2)\n",
            "<ipython-input-1-f6a047c4242d>:102: FutureWarning: suggest_loguniform has been deprecated in v3.0.0. This feature will be removed in v6.0.0. See https://github.com/optuna/optuna/releases/tag/v3.0.0. Use suggest_float(..., log=True) instead.\n",
            "  gamma = trial.suggest_loguniform('gamma', 1e-4, 1e1)\n",
            "[I 2024-09-07 11:52:52,495] Trial 30 finished with value: 0.9562670512675844 and parameters: {'C': 0.00010440325812971276, 'kernel': 'poly', 'gamma': 0.30675205257237276, 'degree': 2}. Best is trial 21 with value: 0.9562670512675844.\n",
            "<ipython-input-1-f6a047c4242d>:97: FutureWarning: suggest_loguniform has been deprecated in v3.0.0. This feature will be removed in v6.0.0. See https://github.com/optuna/optuna/releases/tag/v3.0.0. Use suggest_float(..., log=True) instead.\n",
            "  C = trial.suggest_loguniform('C', 1e-4, 1e2)\n",
            "<ipython-input-1-f6a047c4242d>:102: FutureWarning: suggest_loguniform has been deprecated in v3.0.0. This feature will be removed in v6.0.0. See https://github.com/optuna/optuna/releases/tag/v3.0.0. Use suggest_float(..., log=True) instead.\n",
            "  gamma = trial.suggest_loguniform('gamma', 1e-4, 1e1)\n",
            "[I 2024-09-07 11:53:04,600] Trial 31 finished with value: -1000.0 and parameters: {'C': 0.0009733943149907941, 'kernel': 'poly', 'gamma': 0.26858615256566853, 'degree': 3}. Best is trial 21 with value: 0.9562670512675844.\n",
            "<ipython-input-1-f6a047c4242d>:97: FutureWarning: suggest_loguniform has been deprecated in v3.0.0. This feature will be removed in v6.0.0. See https://github.com/optuna/optuna/releases/tag/v3.0.0. Use suggest_float(..., log=True) instead.\n",
            "  C = trial.suggest_loguniform('C', 1e-4, 1e2)\n",
            "<ipython-input-1-f6a047c4242d>:102: FutureWarning: suggest_loguniform has been deprecated in v3.0.0. This feature will be removed in v6.0.0. See https://github.com/optuna/optuna/releases/tag/v3.0.0. Use suggest_float(..., log=True) instead.\n",
            "  gamma = trial.suggest_loguniform('gamma', 1e-4, 1e1)\n",
            "[I 2024-09-07 11:53:06,834] Trial 33 finished with value: -1000.0 and parameters: {'C': 0.0012557048788047508, 'kernel': 'poly', 'gamma': 0.15804579619110973, 'degree': 3}. Best is trial 21 with value: 0.9562670512675844.\n",
            "<ipython-input-1-f6a047c4242d>:97: FutureWarning: suggest_loguniform has been deprecated in v3.0.0. This feature will be removed in v6.0.0. See https://github.com/optuna/optuna/releases/tag/v3.0.0. Use suggest_float(..., log=True) instead.\n",
            "  C = trial.suggest_loguniform('C', 1e-4, 1e2)\n",
            "<ipython-input-1-f6a047c4242d>:102: FutureWarning: suggest_loguniform has been deprecated in v3.0.0. This feature will be removed in v6.0.0. See https://github.com/optuna/optuna/releases/tag/v3.0.0. Use suggest_float(..., log=True) instead.\n",
            "  gamma = trial.suggest_loguniform('gamma', 1e-4, 1e1)\n",
            "[I 2024-09-07 11:53:15,408] Trial 34 finished with value: -1000.0 and parameters: {'C': 0.0014909371310182556, 'kernel': 'poly', 'gamma': 0.15241343076995545, 'degree': 3}. Best is trial 21 with value: 0.9562670512675844.\n",
            "<ipython-input-1-f6a047c4242d>:97: FutureWarning: suggest_loguniform has been deprecated in v3.0.0. This feature will be removed in v6.0.0. See https://github.com/optuna/optuna/releases/tag/v3.0.0. Use suggest_float(..., log=True) instead.\n",
            "  C = trial.suggest_loguniform('C', 1e-4, 1e2)\n",
            "<ipython-input-1-f6a047c4242d>:102: FutureWarning: suggest_loguniform has been deprecated in v3.0.0. This feature will be removed in v6.0.0. See https://github.com/optuna/optuna/releases/tag/v3.0.0. Use suggest_float(..., log=True) instead.\n",
            "  gamma = trial.suggest_loguniform('gamma', 1e-4, 1e1)\n",
            "[I 2024-09-07 11:53:17,461] Trial 32 finished with value: -1000.0 and parameters: {'C': 0.001119673593806387, 'kernel': 'poly', 'gamma': 0.19647210871780318, 'degree': 3}. Best is trial 21 with value: 0.9562670512675844.\n",
            "<ipython-input-1-f6a047c4242d>:97: FutureWarning: suggest_loguniform has been deprecated in v3.0.0. This feature will be removed in v6.0.0. See https://github.com/optuna/optuna/releases/tag/v3.0.0. Use suggest_float(..., log=True) instead.\n",
            "  C = trial.suggest_loguniform('C', 1e-4, 1e2)\n",
            "[I 2024-09-07 11:53:21,099] Trial 35 finished with value: -1000.0 and parameters: {'C': 0.001425673453962447, 'kernel': 'poly', 'gamma': 0.1278582711593872, 'degree': 3}. Best is trial 21 with value: 0.9562670512675844.\n",
            "<ipython-input-1-f6a047c4242d>:97: FutureWarning: suggest_loguniform has been deprecated in v3.0.0. This feature will be removed in v6.0.0. See https://github.com/optuna/optuna/releases/tag/v3.0.0. Use suggest_float(..., log=True) instead.\n",
            "  C = trial.suggest_loguniform('C', 1e-4, 1e2)\n",
            "[I 2024-09-07 11:53:27,531] Trial 38 finished with value: -1000.0 and parameters: {'C': 0.033828352900210225, 'kernel': 'poly', 'gamma': 0.0872553440356738, 'degree': 3}. Best is trial 21 with value: 0.9562670512675844.\n",
            "<ipython-input-1-f6a047c4242d>:97: FutureWarning: suggest_loguniform has been deprecated in v3.0.0. This feature will be removed in v6.0.0. See https://github.com/optuna/optuna/releases/tag/v3.0.0. Use suggest_float(..., log=True) instead.\n",
            "  C = trial.suggest_loguniform('C', 1e-4, 1e2)\n",
            "[I 2024-09-07 11:53:32,954] Trial 37 finished with value: -1000.0 and parameters: {'C': 0.04097662591362405, 'kernel': 'poly', 'gamma': 0.12283769858412176, 'degree': 3}. Best is trial 21 with value: 0.9562670512675844.\n",
            "<ipython-input-1-f6a047c4242d>:97: FutureWarning: suggest_loguniform has been deprecated in v3.0.0. This feature will be removed in v6.0.0. See https://github.com/optuna/optuna/releases/tag/v3.0.0. Use suggest_float(..., log=True) instead.\n",
            "  C = trial.suggest_loguniform('C', 1e-4, 1e2)\n",
            "<ipython-input-1-f6a047c4242d>:102: FutureWarning: suggest_loguniform has been deprecated in v3.0.0. This feature will be removed in v6.0.0. See https://github.com/optuna/optuna/releases/tag/v3.0.0. Use suggest_float(..., log=True) instead.\n",
            "  gamma = trial.suggest_loguniform('gamma', 1e-4, 1e1)\n",
            "[I 2024-09-07 11:53:40,619] Trial 46 finished with value: 0.9510752650840757 and parameters: {'C': 1.2774236984072112, 'kernel': 'linear'}. Best is trial 21 with value: 0.9562670512675844.\n",
            "[I 2024-09-07 11:53:41,275] Trial 39 finished with value: -1000.0 and parameters: {'C': 0.04143970640606291, 'kernel': 'poly', 'gamma': 0.1117342998573804, 'degree': 3}. Best is trial 21 with value: 0.9562670512675844.\n",
            "[I 2024-09-07 11:53:44,127] Trial 40 finished with value: -1000.0 and parameters: {'C': 0.5686549580419246, 'kernel': 'poly', 'gamma': 0.015725045735216363, 'degree': 3}. Best is trial 21 with value: 0.9562670512675844.\n",
            "[I 2024-09-07 11:53:45,233] Trial 41 finished with value: -1000.0 and parameters: {'C': 0.5378750795003934, 'kernel': 'poly', 'gamma': 0.013325907799996988, 'degree': 3}. Best is trial 21 with value: 0.9562670512675844.\n",
            "[I 2024-09-07 11:53:48,122] Trial 47 finished with value: 0.9583420260725652 and parameters: {'C': 0.00037588231203022465, 'kernel': 'linear'}. Best is trial 47 with value: 0.9583420260725652.\n",
            "[I 2024-09-07 11:53:52,249] Trial 42 finished with value: -1000.0 and parameters: {'C': 0.0007377055734792869, 'kernel': 'poly', 'gamma': 0.017674019196111987, 'degree': 3}. Best is trial 47 with value: 0.9583420260725652.\n",
            "[I 2024-09-07 11:53:56,000] Trial 48 finished with value: 0.9576904260459269 and parameters: {'C': 0.0003379752478547719, 'kernel': 'linear'}. Best is trial 47 with value: 0.9583420260725652.\n",
            "[I 2024-09-07 11:53:58,084] Trial 44 finished with value: -1000.0 and parameters: {'C': 0.8795909296850601, 'kernel': 'poly', 'gamma': 0.03443637208876306, 'degree': 3}. Best is trial 47 with value: 0.9583420260725652.\n",
            "[I 2024-09-07 11:53:58,254] Trial 45 finished with value: -1000.0 and parameters: {'C': 0.611296263166623, 'kernel': 'poly', 'gamma': 0.021165655476684413, 'degree': 3}. Best is trial 47 with value: 0.9583420260725652.\n",
            "[I 2024-09-07 11:53:58,763] Trial 43 finished with value: -1000.0 and parameters: {'C': 0.0004061166839600917, 'kernel': 'poly', 'gamma': 0.01728580607773692, 'degree': 3}. Best is trial 47 with value: 0.9583420260725652.\n",
            "[I 2024-09-07 11:54:13,167] Trial 49 finished with value: 0.9274664938147552 and parameters: {'C': 0.00034684048607819674, 'kernel': 'poly', 'gamma': 0.02139401103322415, 'degree': 2}. Best is trial 47 with value: 0.9583420260725652.\n",
            "[I 2024-09-07 11:55:12,737] Trial 36 finished with value: 0.01478743068391867 and parameters: {'C': 0.0011416165234540755, 'kernel': 'rbf', 'gamma': 0.14991640525020283}. Best is trial 47 with value: 0.9583420260725652.\n"
          ]
        },
        {
          "output_type": "stream",
          "name": "stdout",
          "text": [
            "Train accuracy: 0.9735\n"
          ]
        },
        {
          "output_type": "display_data",
          "data": {
            "text/plain": [
              "<Figure size 640x480 with 2 Axes>"
            ],
            "image/png": "[encoded data removed]"
          },
          "metadata": {}
        },
        {
          "output_type": "stream",
          "name": "stdout",
          "text": [
            "Test Accuracy: 0.9044\n",
            "Precision: 0.9051\n",
            "Recall: 0.9044\n",
            "Fit analysis:The model's fitting performance is: Overfitting\n"
          ]
        }
      ]
    }
  ]
}